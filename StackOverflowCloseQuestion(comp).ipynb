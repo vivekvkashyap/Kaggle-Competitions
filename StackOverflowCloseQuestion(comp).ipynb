{
  "nbformat": 4,
  "nbformat_minor": 0,
  "metadata": {
    "colab": {
      "name": "StackOverflowCloseQuestion(comp).ipynb",
      "provenance": [],
      "collapsed_sections": []
    },
    "kernelspec": {
      "name": "python3",
      "display_name": "Python 3"
    },
    "accelerator": "GPU"
  },
  "cells": [
    {
      "cell_type": "code",
      "metadata": {
        "id": "CAyrZlhBAcv_"
      },
      "source": [
        "import tensorflow as tf\n",
        "import numpy as np\n",
        "import pandas as pd\n"
      ],
      "execution_count": null,
      "outputs": []
    },
    {
      "cell_type": "code",
      "metadata": {
        "id": "9V562GAzAlkh"
      },
      "source": [
        "data=pd.read_csv('/content/drive/MyDrive/dataset/PredictClosedStackOverflowQuestions.csv')"
      ],
      "execution_count": null,
      "outputs": []
    },
    {
      "cell_type": "code",
      "metadata": {
        "id": "JyirfjIBNyEN"
      },
      "source": [
        "data"
      ],
      "execution_count": null,
      "outputs": []
    },
    {
      "cell_type": "code",
      "metadata": {
        "id": "xdAEYHpOXAWq"
      },
      "source": [
        "extra=data['PostClosedDate']"
      ],
      "execution_count": null,
      "outputs": []
    },
    {
      "cell_type": "code",
      "metadata": {
        "id": "GNBSsX7VIp8q"
      },
      "source": [
        "labels=data['OpenStatus']"
      ],
      "execution_count": null,
      "outputs": []
    },
    {
      "cell_type": "code",
      "metadata": {
        "id": "Bvtfd0v_Islt"
      },
      "source": [
        "data.drop(columns=['PostId','PostCreationDate','OwnerUserId','OwnerCreationDate','OwnerUndeletedAnswerCountAtPostTime','Tag2','Tag3','Tag4','Tag5'],inplace=True)"
      ],
      "execution_count": null,
      "outputs": []
    },
    {
      "cell_type": "code",
      "metadata": {
        "id": "1kvp2Pl2JRat"
      },
      "source": [
        "data.drop(columns=['OpenStatus'],inplace=True)"
      ],
      "execution_count": null,
      "outputs": []
    },
    {
      "cell_type": "code",
      "metadata": {
        "colab": {
          "base_uri": "https://localhost:8080/",
          "height": 419
        },
        "id": "aKDKohI_Pwy1",
        "outputId": "2e688d2a-06b7-4976-b33d-a6f391e356c4"
      },
      "source": [
        "data"
      ],
      "execution_count": null,
      "outputs": [
        {
          "output_type": "execute_result",
          "data": {
            "text/html": [
              "<div>\n",
              "<style scoped>\n",
              "    .dataframe tbody tr th:only-of-type {\n",
              "        vertical-align: middle;\n",
              "    }\n",
              "\n",
              "    .dataframe tbody tr th {\n",
              "        vertical-align: top;\n",
              "    }\n",
              "\n",
              "    .dataframe thead th {\n",
              "        text-align: right;\n",
              "    }\n",
              "</style>\n",
              "<table border=\"1\" class=\"dataframe\">\n",
              "  <thead>\n",
              "    <tr style=\"text-align: right;\">\n",
              "      <th></th>\n",
              "      <th>ReputationAtPostCreation</th>\n",
              "      <th>Title</th>\n",
              "      <th>BodyMarkdown</th>\n",
              "      <th>Tag1</th>\n",
              "      <th>PostClosedDate</th>\n",
              "    </tr>\n",
              "  </thead>\n",
              "  <tbody>\n",
              "    <tr>\n",
              "      <th>0</th>\n",
              "      <td>1</td>\n",
              "      <td>For Mongodb is it better to reference an objec...</td>\n",
              "      <td>I am building a corpus of indexed sentences in...</td>\n",
              "      <td>mongodb</td>\n",
              "      <td>NaN</td>\n",
              "    </tr>\n",
              "    <tr>\n",
              "      <th>1</th>\n",
              "      <td>192</td>\n",
              "      <td>How to insert schemalocation in a xml document...</td>\n",
              "      <td>i create a xml document with JAXP and search a...</td>\n",
              "      <td>dom</td>\n",
              "      <td>NaN</td>\n",
              "    </tr>\n",
              "    <tr>\n",
              "      <th>2</th>\n",
              "      <td>1</td>\n",
              "      <td>Too many lookup tables</td>\n",
              "      <td>What are the adverse effects of having too man...</td>\n",
              "      <td>sql-server</td>\n",
              "      <td>NaN</td>\n",
              "    </tr>\n",
              "    <tr>\n",
              "      <th>3</th>\n",
              "      <td>4</td>\n",
              "      <td>What is this PHP code in VB.net</td>\n",
              "      <td>I am looking for the vb.net equivalent of this...</td>\n",
              "      <td>php</td>\n",
              "      <td>04/15/2012 21:12:48</td>\n",
              "    </tr>\n",
              "    <tr>\n",
              "      <th>4</th>\n",
              "      <td>334</td>\n",
              "      <td>Spring-Data mongodb querying multiple classes ...</td>\n",
              "      <td>With Spring-Data, you can use the @Document an...</td>\n",
              "      <td>mongodb</td>\n",
              "      <td>NaN</td>\n",
              "    </tr>\n",
              "    <tr>\n",
              "      <th>...</th>\n",
              "      <td>...</td>\n",
              "      <td>...</td>\n",
              "      <td>...</td>\n",
              "      <td>...</td>\n",
              "      <td>...</td>\n",
              "    </tr>\n",
              "    <tr>\n",
              "      <th>140267</th>\n",
              "      <td>520</td>\n",
              "      <td>Is it possible to implement bitwise operators ...</td>\n",
              "      <td>I am facing a rather peculiar problem. I am wo...</td>\n",
              "      <td>bitwise-operators</td>\n",
              "      <td>NaN</td>\n",
              "    </tr>\n",
              "    <tr>\n",
              "      <th>140268</th>\n",
              "      <td>1</td>\n",
              "      <td>Ruby on Rails: MySql Gem does not work: uninit...</td>\n",
              "      <td>I have the following installed:\\r\\nMac Os 10.7...</td>\n",
              "      <td>mysql</td>\n",
              "      <td>NaN</td>\n",
              "    </tr>\n",
              "    <tr>\n",
              "      <th>140269</th>\n",
              "      <td>4</td>\n",
              "      <td>deleting image from image folder</td>\n",
              "      <td>I am working with an asp.net application.I wan...</td>\n",
              "      <td>asp.net</td>\n",
              "      <td>05/21/2012 21:21:27</td>\n",
              "    </tr>\n",
              "    <tr>\n",
              "      <th>140270</th>\n",
              "      <td>1</td>\n",
              "      <td>Need help making HTML's</td>\n",
              "      <td>Hi to all the gurus out there.\\r\\n\\r\\nAnybody ...</td>\n",
              "      <td>html</td>\n",
              "      <td>10/22/2010 13:10:28</td>\n",
              "    </tr>\n",
              "    <tr>\n",
              "      <th>140271</th>\n",
              "      <td>3</td>\n",
              "      <td>How dangerous is it to output certain content ...</td>\n",
              "      <td>Following on from a question I asked about esc...</td>\n",
              "      <td>php</td>\n",
              "      <td>NaN</td>\n",
              "    </tr>\n",
              "  </tbody>\n",
              "</table>\n",
              "<p>140272 rows × 5 columns</p>\n",
              "</div>"
            ],
            "text/plain": [
              "        ReputationAtPostCreation  ...       PostClosedDate\n",
              "0                              1  ...                  NaN\n",
              "1                            192  ...                  NaN\n",
              "2                              1  ...                  NaN\n",
              "3                              4  ...  04/15/2012 21:12:48\n",
              "4                            334  ...                  NaN\n",
              "...                          ...  ...                  ...\n",
              "140267                       520  ...                  NaN\n",
              "140268                         1  ...                  NaN\n",
              "140269                         4  ...  05/21/2012 21:21:27\n",
              "140270                         1  ...  10/22/2010 13:10:28\n",
              "140271                         3  ...                  NaN\n",
              "\n",
              "[140272 rows x 5 columns]"
            ]
          },
          "metadata": {
            "tags": []
          },
          "execution_count": 8
        }
      ]
    },
    {
      "cell_type": "code",
      "metadata": {
        "id": "J3VaeHCnKBVH"
      },
      "source": [
        "from sklearn import preprocessing\n",
        "min_max_scaler = preprocessing.MinMaxScaler(feature_range=(-1,1))\n",
        "x_scaled = min_max_scaler.fit_transform(data[['ReputationAtPostCreation']])\n",
        "df = pd.DataFrame(x_scaled)"
      ],
      "execution_count": null,
      "outputs": []
    },
    {
      "cell_type": "code",
      "metadata": {
        "id": "EbdVPjTOMlc7"
      },
      "source": [
        "data.drop(columns=['ReputationAtPostCreation'],inplace=True)"
      ],
      "execution_count": null,
      "outputs": []
    },
    {
      "cell_type": "code",
      "metadata": {
        "id": "dSMV13dDOEjH"
      },
      "source": [
        "import re"
      ],
      "execution_count": null,
      "outputs": []
    },
    {
      "cell_type": "code",
      "metadata": {
        "id": "o0RRfk0MMwTp"
      },
      "source": [
        "def preprocess(w):\n",
        "  w=w.lower()\n",
        "  w=w.replace('\\r','')\n",
        "  w=w.replace('\\n','')\n",
        "  w=re.sub(r\"([?.!,%&^%$#@])\",r\" \",w)\n",
        "  w=re.sub(r'[\" \"]+',\" \",w)\n",
        "  w=re.sub(r\"[^a-zA-Z?.!,]+\",\" \",w)\n",
        " # w=w.strip()\n",
        "  w=w+'[cls]'\n",
        "  return w"
      ],
      "execution_count": null,
      "outputs": []
    },
    {
      "cell_type": "code",
      "metadata": {
        "id": "sBp06jzWN9e3"
      },
      "source": [
        "ddata=list(map(lambda x:preprocess(x),data['BodyMarkdown']))"
      ],
      "execution_count": null,
      "outputs": []
    },
    {
      "cell_type": "code",
      "metadata": {
        "id": "pFHn4-4-OIH1"
      },
      "source": [
        "def preprocess1(w):\n",
        "  w=w.lower()\n",
        "#  w=w.replace('\\r','')\n",
        "#  w=w.replace('\\n','')\n",
        "#  w=re.sub(r\"([?.!,%&^%$#@])\",r\" \",w)\n",
        "# w=re.sub(r'[\" \"]+',\" \",w)\n",
        "  w=re.sub(r\"[^a-zA-Z?.!,]+\",\" \",w)\n",
        " # w=w.strip()\n",
        " # w=w+'[cls]'\n",
        "  return w"
      ],
      "execution_count": null,
      "outputs": []
    },
    {
      "cell_type": "code",
      "metadata": {
        "id": "Fy9vAiWKPCbS"
      },
      "source": [
        "dataa=list(map(lambda x:preprocess1(x),data['Title']))"
      ],
      "execution_count": null,
      "outputs": []
    },
    {
      "cell_type": "code",
      "metadata": {
        "id": "lzVj0n6zRcXX"
      },
      "source": [
        "from keras.preprocessing.text import Tokenizer\n",
        "from keras.preprocessing.sequence import pad_sequences"
      ],
      "execution_count": null,
      "outputs": []
    },
    {
      "cell_type": "code",
      "metadata": {
        "id": "_nSYNwxvRxFQ"
      },
      "source": [
        "tokenizer=Tokenizer(num_words=30000)\n",
        "tokenizer.fit_on_texts(ddata)\n",
        "sequences=tokenizer.texts_to_sequences(ddata)\n",
        "word_index=tokenizer.word_index"
      ],
      "execution_count": null,
      "outputs": []
    },
    {
      "cell_type": "code",
      "metadata": {
        "id": "fOC4u7d5RvXo"
      },
      "source": [
        "tokenizer=Tokenizer(num_words=10000)\n",
        "tokenizer.fit_on_texts(dataa)\n",
        "sequences2=tokenizer.texts_to_sequences(dataa)\n",
        "word_index=tokenizer.word_index"
      ],
      "execution_count": null,
      "outputs": []
    },
    {
      "cell_type": "code",
      "metadata": {
        "id": "vk-k8EqbSAoG"
      },
      "source": [
        "data1=pad_sequences(sequences,maxlen=256,padding='post')\n",
        "data2=pad_sequences(sequences2,maxlen=256,padding='post')"
      ],
      "execution_count": null,
      "outputs": []
    },
    {
      "cell_type": "code",
      "metadata": {
        "id": "Hul51ukNTcL_"
      },
      "source": [
        "from sklearn import preprocessing"
      ],
      "execution_count": null,
      "outputs": []
    },
    {
      "cell_type": "code",
      "metadata": {
        "id": "-NZcU-wjclwW"
      },
      "source": [
        "new_df=data.fillna({'PostClosedDate':0},inplace=True)"
      ],
      "execution_count": null,
      "outputs": []
    },
    {
      "cell_type": "code",
      "metadata": {
        "id": "Y0THTpH-c1Em"
      },
      "source": [
        "aa=list(data['PostClosedDate'])"
      ],
      "execution_count": null,
      "outputs": []
    },
    {
      "cell_type": "code",
      "metadata": {
        "id": "4-Ipw81ydO5J"
      },
      "source": [
        "bb=[]\n",
        "for i in aa:\n",
        "  if i==0:\n",
        "    bb.append(0)\n",
        "  else:\n",
        "    bb.append(1)"
      ],
      "execution_count": null,
      "outputs": []
    },
    {
      "cell_type": "code",
      "metadata": {
        "id": "Y8-tsC0Rde1F"
      },
      "source": [
        "labels=bb"
      ],
      "execution_count": null,
      "outputs": []
    },
    {
      "cell_type": "code",
      "metadata": {
        "id": "YjL9HT9cCFT6"
      },
      "source": [
        "def modell():\n",
        "  inputs=[tf.keras.layers.Input(shape=(256,),dtype=tf.int32,name='i1'),tf.keras.layers.Input(shape=(256),dtype=tf.int32,name='i2'),tf.keras.layers.Input(shape=(1,),dtype=tf.int32,name='i3')]\n",
        "  x1=tf.keras.layers.Embedding(30000, 256)(inputs[0])\n",
        "  x2=tf.keras.layers.Embedding(10000,256)(inputs[1])\n",
        "  x3=tf.keras.layers.Bidirectional(tf.keras.layers.LSTM(512, return_sequences=True))(x1)\n",
        "  x4=tf.keras.layers.LSTM(128)(x3)\n",
        "  y1=tf.keras.layers.Dense(128,activation='relu')(x4)\n",
        "  x5=tf.keras.layers.Bidirectional(tf.keras.layers.LSTM(512, return_sequences=True))(x2)\n",
        "  x6=tf.keras.layers.LSTM(128)(x5)\n",
        "  y2=tf.keras.layers.Dense(128,activation='relu')(x6)\n",
        "  x7=tf.keras.layers.Dense(128,activation='relu')(inputs[2])\n",
        "#  x8=tf.keras.layers.Flatten()(x4)\n",
        "#  x9=tf.keras.layers.Flatten()(x6)\n",
        "  x10=tf.keras.layers.concatenate([y1,y2,x7])\n",
        "  x11=tf.keras.layers.Dense(128,activation='relu')(x10)\n",
        "  x12=tf.keras.layers.Dense(1,activation='sigmoid')(x11)\n",
        "  model1=tf.keras.models.Model(inputs=inputs,outputs=x12)\n",
        "  return model1"
      ],
      "execution_count": null,
      "outputs": []
    },
    {
      "cell_type": "code",
      "metadata": {
        "id": "ytK-6cq3PfDi"
      },
      "source": [
        "\n",
        "model=modell()"
      ],
      "execution_count": null,
      "outputs": []
    },
    {
      "cell_type": "code",
      "metadata": {
        "colab": {
          "base_uri": "https://localhost:8080/",
          "height": 185
        },
        "id": "27qaSLRGgBPT",
        "outputId": "356f2311-5d40-47b2-fdf5-f69a7691961d"
      },
      "source": [
        "tf.keras.utils.plot_model(model = model , rankdir=\"LR\", dpi=72, show_shapes=True)"
      ],
      "execution_count": null,
      "outputs": [
        {
          "output_type": "execute_result",
          "data": {
            "image/png": "[encoded data removed]",
            "text/plain": [
              "<IPython.core.display.Image object>"
            ]
          },
          "metadata": {
            "tags": []
          },
          "execution_count": 28
        }
      ]
    },
    {
      "cell_type": "code",
      "metadata": {
        "id": "JzYyBXysugdm"
      },
      "source": [
        "data11=data1[:30000]\n",
        "data22=data2[:30000]\n",
        "x_scaled2=x_scaled[:30000]"
      ],
      "execution_count": null,
      "outputs": []
    },
    {
      "cell_type": "code",
      "metadata": {
        "colab": {
          "base_uri": "https://localhost:8080/"
        },
        "id": "gL8k99AGNH8q",
        "outputId": "1ef7d99e-7728-4065-dbe0-953e8afe6bce"
      },
      "source": [
        "data11.shape"
      ],
      "execution_count": null,
      "outputs": [
        {
          "output_type": "execute_result",
          "data": {
            "text/plain": [
              "(120000, 256)"
            ]
          },
          "metadata": {
            "tags": []
          },
          "execution_count": 45
        }
      ]
    },
    {
      "cell_type": "code",
      "metadata": {
        "colab": {
          "base_uri": "https://localhost:8080/"
        },
        "id": "CWMbCq2TNLLN",
        "outputId": "1ec8c020-39f3-438c-fe35-e7b51ad10640"
      },
      "source": [
        "data22"
      ],
      "execution_count": null,
      "outputs": [
        {
          "output_type": "execute_result",
          "data": {
            "text/plain": [
              "array([[   6,  789,    9, ...,    0,    0,    0],\n",
              "       [   4,    1,  241, ...,    0,    0,    0],\n",
              "       [ 633,  231, 1652, ...,    0,    0,    0],\n",
              "       ...,\n",
              "       [  13, 1973,  419, ...,    0,    0,    0],\n",
              "       [ 163, 1516,  102, ...,    0,    0,    0],\n",
              "       [ 643,   11, 1754, ...,    0,    0,    0]], dtype=int32)"
            ]
          },
          "metadata": {
            "tags": []
          },
          "execution_count": 31
        }
      ]
    },
    {
      "cell_type": "code",
      "metadata": {
        "colab": {
          "base_uri": "https://localhost:8080/"
        },
        "id": "wEKH274ANlJm",
        "outputId": "b03247df-c4d1-4d34-938d-7dc8dcd02730"
      },
      "source": [
        "x_scaled"
      ],
      "execution_count": null,
      "outputs": [
        {
          "output_type": "execute_result",
          "data": {
            "text/plain": [
              "array([[-0.99966613],\n",
              "       [-0.99784418],\n",
              "       [-0.99966613],\n",
              "       ...,\n",
              "       [-0.99963752],\n",
              "       [-0.99966613],\n",
              "       [-0.99964706]])"
            ]
          },
          "metadata": {
            "tags": []
          },
          "execution_count": 32
        }
      ]
    },
    {
      "cell_type": "code",
      "metadata": {
        "id": "yRn1nu_-wWko"
      },
      "source": [
        "data111=data1[120000:]\n",
        "data222=data2[120000:]\n",
        "x_scaled3=x_scaled[120000:]"
      ],
      "execution_count": null,
      "outputs": []
    },
    {
      "cell_type": "code",
      "metadata": {
        "colab": {
          "base_uri": "https://localhost:8080/"
        },
        "id": "KOh1y1z4Rc9R",
        "outputId": "99305d7c-22cd-4567-9332-03606287fb82"
      },
      "source": [
        "data11.shape\n",
        "\n"
      ],
      "execution_count": null,
      "outputs": [
        {
          "output_type": "execute_result",
          "data": {
            "text/plain": [
              "(120000, 256)"
            ]
          },
          "metadata": {
            "tags": []
          },
          "execution_count": 34
        }
      ]
    },
    {
      "cell_type": "code",
      "metadata": {
        "colab": {
          "base_uri": "https://localhost:8080/"
        },
        "id": "4sYUT5msRn54",
        "outputId": "2bcf8c36-bfcf-4b8b-e5ed-dee8b8996549"
      },
      "source": [
        "data22.shape"
      ],
      "execution_count": null,
      "outputs": [
        {
          "output_type": "execute_result",
          "data": {
            "text/plain": [
              "(120000, 256)"
            ]
          },
          "metadata": {
            "tags": []
          },
          "execution_count": 35
        }
      ]
    },
    {
      "cell_type": "code",
      "metadata": {
        "colab": {
          "base_uri": "https://localhost:8080/"
        },
        "id": "noR_3OhYRoej",
        "outputId": "1e7af8cd-2128-48ba-947d-2222157b9bb6"
      },
      "source": [
        "x_scaled2.shape"
      ],
      "execution_count": null,
      "outputs": [
        {
          "output_type": "execute_result",
          "data": {
            "text/plain": [
              "(120000, 1)"
            ]
          },
          "metadata": {
            "tags": []
          },
          "execution_count": 36
        }
      ]
    },
    {
      "cell_type": "code",
      "metadata": {
        "id": "KYVKeDY3v1Y5",
        "colab": {
          "base_uri": "https://localhost:8080/"
        },
        "outputId": "a16d93e5-71dc-4f2e-b9c6-2cce702b43e0"
      },
      "source": [
        "len(labels)"
      ],
      "execution_count": null,
      "outputs": [
        {
          "output_type": "execute_result",
          "data": {
            "text/plain": [
              "140272"
            ]
          },
          "metadata": {
            "tags": []
          },
          "execution_count": 37
        }
      ]
    },
    {
      "cell_type": "code",
      "metadata": {
        "id": "FxjYgzTYRwo2"
      },
      "source": [
        "labels1=labels[:30000]\n",
        "labels2=labels[120000:]"
      ],
      "execution_count": null,
      "outputs": []
    },
    {
      "cell_type": "code",
      "metadata": {
        "id": "GANkUSkZgHcz"
      },
      "source": [
        "len"
      ],
      "execution_count": null,
      "outputs": []
    },
    {
      "cell_type": "code",
      "metadata": {
        "colab": {
          "base_uri": "https://localhost:8080/"
        },
        "id": "FAnqsAHCR2cj",
        "outputId": "082087db-c267-4ab6-bc28-b436efa78984"
      },
      "source": [
        "len(labels2)"
      ],
      "execution_count": null,
      "outputs": [
        {
          "output_type": "execute_result",
          "data": {
            "text/plain": [
              "20272"
            ]
          },
          "metadata": {
            "tags": []
          },
          "execution_count": 39
        }
      ]
    },
    {
      "cell_type": "code",
      "metadata": {
        "colab": {
          "base_uri": "https://localhost:8080/"
        },
        "id": "zqQEjngIR535",
        "outputId": "8e67c0d4-1170-47ec-dc84-d998a5ceffe2"
      },
      "source": [
        "data222.shape"
      ],
      "execution_count": null,
      "outputs": [
        {
          "output_type": "execute_result",
          "data": {
            "text/plain": [
              "(20272, 256)"
            ]
          },
          "metadata": {
            "tags": []
          },
          "execution_count": 40
        }
      ]
    },
    {
      "cell_type": "code",
      "metadata": {
        "id": "974XF6hHf-7w"
      },
      "source": [
        "labelss=np.array(labels1)"
      ],
      "execution_count": null,
      "outputs": []
    },
    {
      "cell_type": "code",
      "metadata": {
        "id": "r15ndKwwzXdy"
      },
      "source": [
        "model.compile(optimizer='adam',loss=tf.keras.losses.BinaryCrossentropy(from_logits=True),\n",
        "              metrics=['accuracy'])"
      ],
      "execution_count": null,
      "outputs": []
    },
    {
      "cell_type": "code",
      "metadata": {
        "id": "ABYpWIpeuZil",
        "colab": {
          "base_uri": "https://localhost:8080/"
        },
        "outputId": "d6eb0942-1856-450b-9c94-b5005bac7a59"
      },
      "source": [
        "model.fit(x=[data11,data22,x_scaled2],y=labelss,epochs=3,batch_size=16)"
      ],
      "execution_count": null,
      "outputs": [
        {
          "output_type": "stream",
          "text": [
            "Epoch 1/3\n",
            "1875/1875 [==============================] - 362s 190ms/step - loss: 0.6891 - accuracy: 0.5200\n",
            "Epoch 2/3\n",
            "1875/1875 [==============================] - 354s 189ms/step - loss: 0.6892 - accuracy: 0.5198\n",
            "Epoch 3/3\n",
            "1875/1875 [==============================] - 354s 189ms/step - loss: 0.6877 - accuracy: 0.5160\n"
          ],
          "name": "stdout"
        },
        {
          "output_type": "execute_result",
          "data": {
            "text/plain": [
              "<tensorflow.python.keras.callbacks.History at 0x7fedc03be0f0>"
            ]
          },
          "metadata": {
            "tags": []
          },
          "execution_count": 55
        }
      ]
    },
    {
      "cell_type": "code",
      "metadata": {
        "id": "T7zoYvkMTuv9"
      },
      "source": [
        ",validation_data=([data111,data222,x_scaled3]\n",
        "                  ,labels2)"
      ],
      "execution_count": null,
      "outputs": []
    }
  ]
}