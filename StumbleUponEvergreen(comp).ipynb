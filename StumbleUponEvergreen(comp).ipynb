{
  "nbformat": 4,
  "nbformat_minor": 0,
  "metadata": {
    "colab": {
      "name": "StumbleUponEvergreen(comp).ipynb",
      "provenance": [],
      "collapsed_sections": []
    },
    "kernelspec": {
      "name": "python3",
      "display_name": "Python 3"
    },
    "accelerator": "GPU"
  },
  "cells": [
    {
      "cell_type": "code",
      "metadata": {
        "id": "LKruBGmlOAjV"
      },
      "source": [
        "import numpy as np\n",
        "import pandas as pd\n",
        "import tensorflow as tf\n"
      ],
      "execution_count": null,
      "outputs": []
    },
    {
      "cell_type": "code",
      "metadata": {
        "id": "F1_9UuWXOT8b"
      },
      "source": [
        "data=pd.read_csv('/content/drive/MyDrive/dataset/train.tsv',sep='\\t')"
      ],
      "execution_count": null,
      "outputs": []
    },
    {
      "cell_type": "code",
      "metadata": {
        "id": "pFzvONiuOgZV"
      },
      "source": [
        "data.drop(columns=['urlid','avglinksize','numwords_in_url','frameTagRatio','framebased'],inplace=True)"
      ],
      "execution_count": null,
      "outputs": []
    },
    {
      "cell_type": "code",
      "metadata": {
        "id": "KIwvFKIEe5Zm"
      },
      "source": [
        "list2=data['boilerplate'].to_list()"
      ],
      "execution_count": null,
      "outputs": []
    },
    {
      "cell_type": "code",
      "metadata": {
        "colab": {
          "base_uri": "https://localhost:8080/"
        },
        "id": "rTkGUwBJeylz",
        "outputId": "03c64ece-37b5-4b96-a375-c8be492b7110"
      },
      "source": [
        "j=0\n",
        "k=0\n",
        "list3=[]\n",
        "for i in  list2:\n",
        "  if 'null' in i:\n",
        "    list3.append(k)\n",
        "    \n",
        "    j+=1\n",
        "  k+=1\n",
        "print(j)\n"
      ],
      "execution_count": null,
      "outputs": [
        {
          "output_type": "stream",
          "text": [
            "107\n"
          ],
          "name": "stdout"
        }
      ]
    },
    {
      "cell_type": "code",
      "metadata": {
        "id": "mzh3We7KhYMw"
      },
      "source": [
        "data.drop(data.index[list3],inplace=True)\n",
        "data.reset_index(inplace=True)"
      ],
      "execution_count": null,
      "outputs": []
    },
    {
      "cell_type": "code",
      "metadata": {
        "id": "yDBPFVTTpIgU"
      },
      "source": [
        "numerical_data=['non_markup_alphanum_characters','numberOfLinks','linkwordscore']"
      ],
      "execution_count": null,
      "outputs": []
    },
    {
      "cell_type": "code",
      "metadata": {
        "id": "7jwOlZpArDRj"
      },
      "source": [
        "from sklearn import preprocessing\n",
        "min_max_scaler = preprocessing.MinMaxScaler(feature_range=(0,1))"
      ],
      "execution_count": null,
      "outputs": []
    },
    {
      "cell_type": "code",
      "metadata": {
        "id": "1CB8neEtpJZc"
      },
      "source": [
        "def encode(data1):\n",
        "  for column in data.columns:\n",
        "    if column in numerical_data:\n",
        "      data[column]=min_max_scaler.fit_transform(data[[column]])"
      ],
      "execution_count": null,
      "outputs": []
    },
    {
      "cell_type": "code",
      "metadata": {
        "id": "HCmxanaTrRsi"
      },
      "source": [
        "encode(data)"
      ],
      "execution_count": null,
      "outputs": []
    },
    {
      "cell_type": "code",
      "metadata": {
        "id": "mv2v2mOTtIFh"
      },
      "source": [
        "data['news_front_page']=data['news_front_page'].replace('?',np.nan).ffill(axis=0)"
      ],
      "execution_count": null,
      "outputs": []
    },
    {
      "cell_type": "code",
      "metadata": {
        "id": "eGbLv1a3xjv8"
      },
      "source": [
        "data['alchemy_category']=data['alchemy_category'].replace('?',np.nan).ffill(axis=0)"
      ],
      "execution_count": null,
      "outputs": []
    },
    {
      "cell_type": "code",
      "metadata": {
        "id": "-ywkyDbl1aJ6"
      },
      "source": [
        "data['alchemy_category']=data['alchemy_category'].replace({'recreation':1,'arts_entertainment':2,'business':3,'health':4,'sports':5,'culture_politics':6,'computer_internet':7,'science_technology':8,'gaming':9,'religion':10,'law_crime':11,'unknown':12,'weather':13})"
      ],
      "execution_count": null,
      "outputs": []
    },
    {
      "cell_type": "code",
      "metadata": {
        "id": "RKrRZaVR80lJ"
      },
      "source": [
        "from sklearn.preprocessing import OneHotEncoder\n",
        "enc = OneHotEncoder(handle_unknown='ignore')\n",
        "enc.fit(data[['alchemy_category']])\n",
        "nn=enc.transform(data[['alchemy_category']]).toarray()"
      ],
      "execution_count": null,
      "outputs": []
    },
    {
      "cell_type": "code",
      "metadata": {
        "id": "I7VQ8oct9k_j"
      },
      "source": [
        "data.drop(columns='alchemy_category',inplace=True)"
      ],
      "execution_count": null,
      "outputs": []
    },
    {
      "cell_type": "code",
      "metadata": {
        "id": "xXpOmlsI-idm"
      },
      "source": [
        "data['alchemy_category_score']=data['alchemy_category_score'].replace('?',np.nan).ffill(axis=0)\n",
        "data['alchemy_category_score']=data['alchemy_category_score'].astype(float)"
      ],
      "execution_count": null,
      "outputs": []
    },
    {
      "cell_type": "code",
      "metadata": {
        "id": "iJcVu5nR_LV_"
      },
      "source": [
        "data['is_news']=data['is_news'].replace('?',np.nan).ffill(axis=0)\n",
        "data['is_news']=data['is_news'].astype(int)"
      ],
      "execution_count": null,
      "outputs": []
    },
    {
      "cell_type": "code",
      "metadata": {
        "id": "vN7TxJrFA8YX"
      },
      "source": [
        "list2=data['boilerplate'].to_list()"
      ],
      "execution_count": null,
      "outputs": []
    },
    {
      "cell_type": "code",
      "metadata": {
        "id": "DRMEdPA8dktF"
      },
      "source": [
        "title=[]\n",
        "body=[]\n",
        "url=[]\n",
        "for i in list2:\n",
        "  ss=eval(i)\n",
        "  if ss.get('title'):\n",
        "    title.append(ss['title'])\n",
        "  else:\n",
        "    title.append('')\n",
        "  if ss.get('body'):\n",
        "    body.append(ss['body'])\n",
        "  else:\n",
        "    body.append('')\n",
        "  if ss.get('url'):\n",
        "    url.append(ss['url'])\n",
        "  else:\n",
        "    url.append('')  \n",
        "  "
      ],
      "execution_count": null,
      "outputs": []
    },
    {
      "cell_type": "code",
      "metadata": {
        "id": "NkcKXocBn5jy"
      },
      "source": [
        "data.drop(columns=['url','boilerplate'],inplace=True)\n",
        "labels=data['label']\n",
        "data.drop(columns='label',inplace=True)"
      ],
      "execution_count": null,
      "outputs": []
    },
    {
      "cell_type": "code",
      "metadata": {
        "id": "34eU7aAtpjWb"
      },
      "source": [
        "from keras.preprocessing.text import Tokenizer\n",
        "from keras.preprocessing.sequence import pad_sequences"
      ],
      "execution_count": null,
      "outputs": []
    },
    {
      "cell_type": "code",
      "metadata": {
        "id": "FJDtWMlfprGd"
      },
      "source": [
        "tokenizer=Tokenizer(num_words=10000)\n",
        "tokenizer.fit_on_texts(title)\n",
        "sequences=tokenizer.texts_to_sequences(title)\n",
        "word_index=tokenizer.word_index\n",
        "title_data=pad_sequences(sequences,maxlen=64,padding='post')"
      ],
      "execution_count": null,
      "outputs": []
    },
    {
      "cell_type": "code",
      "metadata": {
        "id": "UfyvhFaQqm1W"
      },
      "source": [
        "tokenizer1=Tokenizer(num_words=30000)\n",
        "tokenizer.fit_on_texts(body)\n",
        "sequences2=tokenizer.texts_to_sequences(body)\n",
        "word_index1=tokenizer.word_index\n",
        "body_data=pad_sequences(sequences2,maxlen=256,padding='post')"
      ],
      "execution_count": null,
      "outputs": []
    },
    {
      "cell_type": "code",
      "metadata": {
        "id": "VXuryb9Du14X"
      },
      "source": [
        "def modell():\n",
        "  inputs=[tf.keras.layers.Input(name=\"onee\",shape=(13,),dtype=tf.float64),tf.keras.layers.Input(name=\"seq\",shape=(64,),dtype=tf.float64),tf.keras.layers.Input(name=\"seq2\",shape=(256,),dtype=tf.float64),tf.keras.layers.Input(name=\"numeric\",shape=(19,))]\n",
        "  x1=tf.keras.layers.Dense(128,activation='relu')(inputs[0])\n",
        "  x2=tf.keras.layers.Dense(64,activation='sigmoid')(x1)\n",
        "  x3=tf.keras.layers.Embedding(10001, 256)(inputs[1])\n",
        "  x4=tf.keras.layers.LSTM(256,return_sequences=True)(x3)\n",
        "  x4=tf.keras.layers.Flatten()(x4)\n",
        "  x5=tf.keras.layers.Dense(64,activation='relu')(x4)\n",
        "  x6=tf.keras.layers.Embedding(30001,256)(inputs[2])\n",
        "  x7=tf.keras.layers.LSTM(256)(x6)\n",
        "  x8=tf.keras.layers.Dense(64,activation='relu')(x7)\n",
        "  x9=tf.keras.layers.Dense(256,activation='relu')(inputs[3])\n",
        "  x10=tf.keras.layers.Dense(128,activation='relu')(x9)\n",
        "  x11=tf.keras.layers.Dense(64,activation='sigmoid')(x10)\n",
        "  features=tf.keras.layers.concatenate([x2,x5,x8,x11])\n",
        "  x12=tf.keras.layers.Dense(128,activation='relu')(features)\n",
        "  x13=tf.keras.layers.Dense(1,activation='softmax')(x12)\n",
        "  model=tf.keras.Model(inputs=inputs,outputs=x13)\n",
        "  return model"
      ],
      "execution_count": null,
      "outputs": []
    },
    {
      "cell_type": "code",
      "metadata": {
        "id": "-iUCIU4S0BP1"
      },
      "source": [
        "model=modell()"
      ],
      "execution_count": null,
      "outputs": []
    },
    {
      "cell_type": "code",
      "metadata": {
        "colab": {
          "base_uri": "https://localhost:8080/",
          "height": 247
        },
        "id": "U6dBf0z_yIgb",
        "outputId": "a86f0ed3-1770-40e3-cab0-77da2d3d5571"
      },
      "source": [
        "tf.keras.utils.plot_model(model = model , rankdir=\"LR\", dpi=72, show_shapes=True)"
      ],
      "execution_count": null,
      "outputs": [
        {
          "output_type": "execute_result",
          "data": {
            "image/png": "[encoded data removed]",
            "text/plain": [
              "<IPython.core.display.Image object>"
            ]
          },
          "metadata": {
            "tags": []
          },
          "execution_count": 26
        }
      ]
    },
    {
      "cell_type": "code",
      "metadata": {
        "id": "8fLJztYnyR2E"
      },
      "source": [
        "model.compile(optimizer='adam',loss=tf.keras.losses.BinaryCrossentropy(from_logits=True),metrics=['accuracy'])"
      ],
      "execution_count": null,
      "outputs": []
    },
    {
      "cell_type": "code",
      "metadata": {
        "colab": {
          "base_uri": "https://localhost:8080/"
        },
        "id": "c5W0qmxj7Vsh",
        "outputId": "6847a0ff-08e2-452a-b314-4c448b94d838"
      },
      "source": [
        "nn"
      ],
      "execution_count": null,
      "outputs": [
        {
          "output_type": "execute_result",
          "data": {
            "text/plain": [
              "array([[0., 0., 1., ..., 0., 0., 0.],\n",
              "       [1., 0., 0., ..., 0., 0., 0.],\n",
              "       [0., 0., 0., ..., 0., 0., 0.],\n",
              "       ...,\n",
              "       [1., 0., 0., ..., 0., 0., 0.],\n",
              "       [0., 1., 0., ..., 0., 0., 0.],\n",
              "       [0., 1., 0., ..., 0., 0., 0.]])"
            ]
          },
          "metadata": {
            "tags": []
          },
          "execution_count": 29
        }
      ]
    },
    {
      "cell_type": "code",
      "metadata": {
        "colab": {
          "base_uri": "https://localhost:8080/"
        },
        "id": "SzTIGkf27W_8",
        "outputId": "d83fade5-b5a9-4353-e2fd-75eddf8dd586"
      },
      "source": [
        "title_data"
      ],
      "execution_count": null,
      "outputs": [
        {
          "output_type": "execute_result",
          "data": {
            "text/plain": [
              "array([[2159, 2567, 4344, ...,    0,    0,    0],\n",
              "       [   1, 2161, 1242, ...,    0,    0,    0],\n",
              "       [ 695,   33,  468, ...,    0,    0,    0],\n",
              "       ...,\n",
              "       [  92,  201,   86, ...,    0,    0,    0],\n",
              "       [2282, 6244,    0, ...,    0,    0,    0],\n",
              "       [2487, 2488,   28, ...,    0,    0,    0]], dtype=int32)"
            ]
          },
          "metadata": {
            "tags": []
          },
          "execution_count": 30
        }
      ]
    },
    {
      "cell_type": "code",
      "metadata": {
        "colab": {
          "base_uri": "https://localhost:8080/"
        },
        "id": "rQuQWmWh7YEe",
        "outputId": "6d43e33d-9eec-4065-daba-2ae2024d5bdc"
      },
      "source": [
        "body_data"
      ],
      "execution_count": null,
      "outputs": [
        {
          "output_type": "execute_result",
          "data": {
            "text/plain": [
              "array([[ 683, 3364,   11, ...,  158, 4178,  597],\n",
              "       [5810, 8753,    1, ...,  750,  806, 8199],\n",
              "       [ 960,    1,   89, ...,    0,    0,    0],\n",
              "       ...,\n",
              "       [  39,   88, 2554, ...,    0,    0,    0],\n",
              "       [   0,    0,    0, ...,    0,    0,    0],\n",
              "       [ 199,   11,    3, ...,    0,    0,    0]], dtype=int32)"
            ]
          },
          "metadata": {
            "tags": []
          },
          "execution_count": 31
        }
      ]
    },
    {
      "cell_type": "code",
      "metadata": {
        "id": "LpbT7QYy7Zpy"
      },
      "source": [
        "new_data=data.values.astype('float32')"
      ],
      "execution_count": null,
      "outputs": []
    },
    {
      "cell_type": "code",
      "metadata": {
        "colab": {
          "base_uri": "https://localhost:8080/"
        },
        "id": "DZ-oq6uE9dnk",
        "outputId": "dd03109a-7593-4e55-f300-c7b861ffeecf"
      },
      "source": [
        "new_data"
      ],
      "execution_count": null,
      "outputs": [
        {
          "output_type": "execute_result",
          "data": {
            "text/plain": [
              "array([[0.0000000e+00, 7.8913099e-01, 6.7647058e-01, ..., 3.3827063e-02,\n",
              "        1.5294118e-01, 7.9129577e-02],\n",
              "       [1.0000000e+00, 5.7414699e-01, 5.0802141e-01, ..., 3.7229784e-02,\n",
              "        1.8181819e-01, 1.2544803e-01],\n",
              "       [2.0000000e+00, 9.9652600e-01, 5.6201553e-01, ..., 5.1441152e-02,\n",
              "        1.6666667e-01, 5.7613168e-02],\n",
              "       ...,\n",
              "       [7.3920000e+03, 1.9627300e-01, 3.1578946e-01, ..., 1.5012010e-02,\n",
              "        4.3421054e-01, 1.1764706e-01],\n",
              "       [7.3930000e+03, 6.1787599e-01, 2.1052632e-01, ..., 7.4059246e-03,\n",
              "        2.6315790e-02, 3.3333334e-01],\n",
              "       [7.3940000e+03, 6.1787599e-01, 5.0591713e-01, ..., 6.7453966e-02,\n",
              "        5.9171598e-03, 1.3414635e-01]], dtype=float32)"
            ]
          },
          "metadata": {
            "tags": []
          },
          "execution_count": 43
        }
      ]
    },
    {
      "cell_type": "code",
      "metadata": {
        "colab": {
          "base_uri": "https://localhost:8080/"
        },
        "id": "tArj_KhO9ha-",
        "outputId": "be5fcdf2-ab42-4e83-84ae-1c141d461d83"
      },
      "source": [
        "list1=[1,2,3,4,5]\n",
        "list1[:-1]"
      ],
      "execution_count": null,
      "outputs": [
        {
          "output_type": "execute_result",
          "data": {
            "text/plain": [
              "[1, 2, 3, 4]"
            ]
          },
          "metadata": {
            "tags": []
          },
          "execution_count": 44
        }
      ]
    },
    {
      "cell_type": "code",
      "metadata": {
        "colab": {
          "base_uri": "https://localhost:8080/"
        },
        "id": "zWz4xLmG9ey3",
        "outputId": "6991ce90-e3ab-4771-8fbe-0a114ed25d5e"
      },
      "source": [
        "new_data[:,:-1]"
      ],
      "execution_count": null,
      "outputs": [
        {
          "output_type": "execute_result",
          "data": {
            "text/plain": [
              "array([[0.0000000e+00, 7.8913099e-01, 6.7647058e-01, ..., 2.6082942e-02,\n",
              "        3.3827063e-02, 1.5294118e-01],\n",
              "       [1.0000000e+00, 5.7414699e-01, 5.0802141e-01, ..., 2.3914173e-02,\n",
              "        3.7229784e-02, 1.8181819e-01],\n",
              "       [2.0000000e+00, 9.9652600e-01, 5.6201553e-01, ..., 1.0771717e-02,\n",
              "        5.1441152e-02, 1.6666667e-01],\n",
              "       ...,\n",
              "       [7.3920000e+03, 1.9627300e-01, 3.1578946e-01, ..., 4.0778643e-03,\n",
              "        1.5012010e-02, 4.3421054e-01],\n",
              "       [7.3930000e+03, 6.1787599e-01, 2.1052632e-01, ..., 1.8561976e-03,\n",
              "        7.4059246e-03, 2.6315790e-02],\n",
              "       [7.3940000e+03, 6.1787599e-01, 5.0591713e-01, ..., 2.4765329e-03,\n",
              "        6.7453966e-02, 5.9171598e-03]], dtype=float32)"
            ]
          },
          "metadata": {
            "tags": []
          },
          "execution_count": 45
        }
      ]
    },
    {
      "cell_type": "code",
      "metadata": {
        "colab": {
          "base_uri": "https://localhost:8080/"
        },
        "id": "cUX_QE-sVRIR",
        "outputId": "a2c11f6a-8b99-474f-d373-93ee984bd556"
      },
      "source": [
        "model.fit([nn,title_data,body_data,new_data],labels,epochs=5)"
      ],
      "execution_count": null,
      "outputs": [
        {
          "output_type": "stream",
          "text": [
            "Epoch 1/5\n",
            "228/228 [==============================] - 35s 133ms/step - loss: 0.5880 - accuracy: 0.5228\n",
            "Epoch 2/5\n",
            "228/228 [==============================] - 30s 131ms/step - loss: 0.3185 - accuracy: 0.5032\n",
            "Epoch 3/5\n",
            "228/228 [==============================] - 30s 131ms/step - loss: 0.1625 - accuracy: 0.5143\n",
            "Epoch 4/5\n",
            "228/228 [==============================] - 30s 130ms/step - loss: 0.0885 - accuracy: 0.5087\n",
            "Epoch 5/5\n",
            "228/228 [==============================] - 30s 131ms/step - loss: 0.0809 - accuracy: 0.5204\n"
          ],
          "name": "stdout"
        },
        {
          "output_type": "execute_result",
          "data": {
            "text/plain": [
              "<tensorflow.python.keras.callbacks.History at 0x7f8d384a40b8>"
            ]
          },
          "metadata": {
            "tags": []
          },
          "execution_count": 42
        }
      ]
    },
    {
      "cell_type": "code",
      "metadata": {
        "id": "HJoLsa0IAnNS"
      },
      "source": [
        ""
      ],
      "execution_count": null,
      "outputs": []
    }
  ]
}