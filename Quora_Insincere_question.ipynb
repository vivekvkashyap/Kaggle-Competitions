{
  "nbformat": 4,
  "nbformat_minor": 0,
  "metadata": {
    "colab": {
      "name": "Quora-Insincere_question.ipynb",
      "provenance": [],
      "collapsed_sections": []
    },
    "kernelspec": {
      "name": "python3",
      "display_name": "Python 3"
    },
    "accelerator": "GPU",
    "widgets": {
      "application/vnd.jupyter.widget-state+json": {
        "a62b4f304a0a400eafe308c8098b3bae": {
          "model_module": "@jupyter-widgets/controls",
          "model_name": "HBoxModel",
          "state": {
            "_view_name": "HBoxView",
            "_dom_classes": [],
            "_model_name": "HBoxModel",
            "_view_module": "@jupyter-widgets/controls",
            "_model_module_version": "1.5.0",
            "_view_count": null,
            "_view_module_version": "1.5.0",
            "box_style": "",
            "layout": "IPY_MODEL_219a72024b0e4209abfeaa57a4db35c5",
            "_model_module": "@jupyter-widgets/controls",
            "children": [
              "IPY_MODEL_2cf22d5f429043ada0e16facbdb489d6",
              "IPY_MODEL_4d202fa2e9f448c9aba024223fa39d50"
            ]
          }
        },
        "219a72024b0e4209abfeaa57a4db35c5": {
          "model_module": "@jupyter-widgets/base",
          "model_name": "LayoutModel",
          "state": {
            "_view_name": "LayoutView",
            "grid_template_rows": null,
            "right": null,
            "justify_content": null,
            "_view_module": "@jupyter-widgets/base",
            "overflow": null,
            "_model_module_version": "1.2.0",
            "_view_count": null,
            "flex_flow": null,
            "width": null,
            "min_width": null,
            "border": null,
            "align_items": null,
            "bottom": null,
            "_model_module": "@jupyter-widgets/base",
            "top": null,
            "grid_column": null,
            "overflow_y": null,
            "overflow_x": null,
            "grid_auto_flow": null,
            "grid_area": null,
            "grid_template_columns": null,
            "flex": null,
            "_model_name": "LayoutModel",
            "justify_items": null,
            "grid_row": null,
            "max_height": null,
            "align_content": null,
            "visibility": null,
            "align_self": null,
            "height": null,
            "min_height": null,
            "padding": null,
            "grid_auto_rows": null,
            "grid_gap": null,
            "max_width": null,
            "order": null,
            "_view_module_version": "1.2.0",
            "grid_template_areas": null,
            "object_position": null,
            "object_fit": null,
            "grid_auto_columns": null,
            "margin": null,
            "display": null,
            "left": null
          }
        },
        "2cf22d5f429043ada0e16facbdb489d6": {
          "model_module": "@jupyter-widgets/controls",
          "model_name": "FloatProgressModel",
          "state": {
            "_view_name": "ProgressView",
            "style": "IPY_MODEL_ecaf3768dcc54721a6f87305407465c8",
            "_dom_classes": [],
            "description": "Downloading: 100%",
            "_model_name": "FloatProgressModel",
            "bar_style": "success",
            "max": 231508,
            "_view_module": "@jupyter-widgets/controls",
            "_model_module_version": "1.5.0",
            "value": 231508,
            "_view_count": null,
            "_view_module_version": "1.5.0",
            "orientation": "horizontal",
            "min": 0,
            "description_tooltip": null,
            "_model_module": "@jupyter-widgets/controls",
            "layout": "IPY_MODEL_4eea1e004e5f48ccbda47de193688c9e"
          }
        },
        "4d202fa2e9f448c9aba024223fa39d50": {
          "model_module": "@jupyter-widgets/controls",
          "model_name": "HTMLModel",
          "state": {
            "_view_name": "HTMLView",
            "style": "IPY_MODEL_68d757a7fae54b88bfeb34c966cde111",
            "_dom_classes": [],
            "description": "",
            "_model_name": "HTMLModel",
            "placeholder": "​",
            "_view_module": "@jupyter-widgets/controls",
            "_model_module_version": "1.5.0",
            "value": " 232k/232k [00:00&lt;00:00, 630kB/s]",
            "_view_count": null,
            "_view_module_version": "1.5.0",
            "description_tooltip": null,
            "_model_module": "@jupyter-widgets/controls",
            "layout": "IPY_MODEL_2137a472fa1c4203abe6ff5dcb210568"
          }
        },
        "ecaf3768dcc54721a6f87305407465c8": {
          "model_module": "@jupyter-widgets/controls",
          "model_name": "ProgressStyleModel",
          "state": {
            "_view_name": "StyleView",
            "_model_name": "ProgressStyleModel",
            "description_width": "initial",
            "_view_module": "@jupyter-widgets/base",
            "_model_module_version": "1.5.0",
            "_view_count": null,
            "_view_module_version": "1.2.0",
            "bar_color": null,
            "_model_module": "@jupyter-widgets/controls"
          }
        },
        "4eea1e004e5f48ccbda47de193688c9e": {
          "model_module": "@jupyter-widgets/base",
          "model_name": "LayoutModel",
          "state": {
            "_view_name": "LayoutView",
            "grid_template_rows": null,
            "right": null,
            "justify_content": null,
            "_view_module": "@jupyter-widgets/base",
            "overflow": null,
            "_model_module_version": "1.2.0",
            "_view_count": null,
            "flex_flow": null,
            "width": null,
            "min_width": null,
            "border": null,
            "align_items": null,
            "bottom": null,
            "_model_module": "@jupyter-widgets/base",
            "top": null,
            "grid_column": null,
            "overflow_y": null,
            "overflow_x": null,
            "grid_auto_flow": null,
            "grid_area": null,
            "grid_template_columns": null,
            "flex": null,
            "_model_name": "LayoutModel",
            "justify_items": null,
            "grid_row": null,
            "max_height": null,
            "align_content": null,
            "visibility": null,
            "align_self": null,
            "height": null,
            "min_height": null,
            "padding": null,
            "grid_auto_rows": null,
            "grid_gap": null,
            "max_width": null,
            "order": null,
            "_view_module_version": "1.2.0",
            "grid_template_areas": null,
            "object_position": null,
            "object_fit": null,
            "grid_auto_columns": null,
            "margin": null,
            "display": null,
            "left": null
          }
        },
        "68d757a7fae54b88bfeb34c966cde111": {
          "model_module": "@jupyter-widgets/controls",
          "model_name": "DescriptionStyleModel",
          "state": {
            "_view_name": "StyleView",
            "_model_name": "DescriptionStyleModel",
            "description_width": "",
            "_view_module": "@jupyter-widgets/base",
            "_model_module_version": "1.5.0",
            "_view_count": null,
            "_view_module_version": "1.2.0",
            "_model_module": "@jupyter-widgets/controls"
          }
        },
        "2137a472fa1c4203abe6ff5dcb210568": {
          "model_module": "@jupyter-widgets/base",
          "model_name": "LayoutModel",
          "state": {
            "_view_name": "LayoutView",
            "grid_template_rows": null,
            "right": null,
            "justify_content": null,
            "_view_module": "@jupyter-widgets/base",
            "overflow": null,
            "_model_module_version": "1.2.0",
            "_view_count": null,
            "flex_flow": null,
            "width": null,
            "min_width": null,
            "border": null,
            "align_items": null,
            "bottom": null,
            "_model_module": "@jupyter-widgets/base",
            "top": null,
            "grid_column": null,
            "overflow_y": null,
            "overflow_x": null,
            "grid_auto_flow": null,
            "grid_area": null,
            "grid_template_columns": null,
            "flex": null,
            "_model_name": "LayoutModel",
            "justify_items": null,
            "grid_row": null,
            "max_height": null,
            "align_content": null,
            "visibility": null,
            "align_self": null,
            "height": null,
            "min_height": null,
            "padding": null,
            "grid_auto_rows": null,
            "grid_gap": null,
            "max_width": null,
            "order": null,
            "_view_module_version": "1.2.0",
            "grid_template_areas": null,
            "object_position": null,
            "object_fit": null,
            "grid_auto_columns": null,
            "margin": null,
            "display": null,
            "left": null
          }
        }
      }
    }
  },
  "cells": [
    {
      "cell_type": "code",
      "metadata": {
        "id": "IOWEbW9MZXZZ"
      },
      "source": [
        "import pandas as pd\n",
        "import tensorflow as tf\n",
        "import numpy as np\n"
      ],
      "execution_count": null,
      "outputs": []
    },
    {
      "cell_type": "code",
      "metadata": {
        "colab": {
          "base_uri": "https://localhost:8080/"
        },
        "id": "TDA6MvOzr-IF",
        "outputId": "4e1aad78-86c7-4528-8884-970bb1bbe90d"
      },
      "source": [
        "! pip install -U tensorflow-addons"
      ],
      "execution_count": null,
      "outputs": [
        {
          "output_type": "stream",
          "text": [
            "Collecting tensorflow-addons\n",
            "\u001b[?25l  Downloading https://files.pythonhosted.org/packages/d6/98/8e97194e774f35a1319668e12571d5fa19f323e0ccae9d9890258aab1fcc/tensorflow_addons-0.12.0-cp36-cp36m-manylinux2010_x86_64.whl (703kB)\n",
            "\r\u001b[K     |▌                               | 10kB 19.0MB/s eta 0:00:01\r\u001b[K     |█                               | 20kB 15.9MB/s eta 0:00:01\r\u001b[K     |█▍                              | 30kB 14.2MB/s eta 0:00:01\r\u001b[K     |█▉                              | 40kB 12.6MB/s eta 0:00:01\r\u001b[K     |██▎                             | 51kB 11.5MB/s eta 0:00:01\r\u001b[K     |██▉                             | 61kB 11.1MB/s eta 0:00:01\r\u001b[K     |███▎                            | 71kB 11.3MB/s eta 0:00:01\r\u001b[K     |███▊                            | 81kB 12.4MB/s eta 0:00:01\r\u001b[K     |████▏                           | 92kB 11.1MB/s eta 0:00:01\r\u001b[K     |████▋                           | 102kB 11.0MB/s eta 0:00:01\r\u001b[K     |█████▏                          | 112kB 11.0MB/s eta 0:00:01\r\u001b[K     |█████▋                          | 122kB 11.0MB/s eta 0:00:01\r\u001b[K     |██████                          | 133kB 11.0MB/s eta 0:00:01\r\u001b[K     |██████▌                         | 143kB 11.0MB/s eta 0:00:01\r\u001b[K     |███████                         | 153kB 11.0MB/s eta 0:00:01\r\u001b[K     |███████▌                        | 163kB 11.0MB/s eta 0:00:01\r\u001b[K     |████████                        | 174kB 11.0MB/s eta 0:00:01\r\u001b[K     |████████▍                       | 184kB 11.0MB/s eta 0:00:01\r\u001b[K     |████████▉                       | 194kB 11.0MB/s eta 0:00:01\r\u001b[K     |█████████▎                      | 204kB 11.0MB/s eta 0:00:01\r\u001b[K     |█████████▉                      | 215kB 11.0MB/s eta 0:00:01\r\u001b[K     |██████████▎                     | 225kB 11.0MB/s eta 0:00:01\r\u001b[K     |██████████▊                     | 235kB 11.0MB/s eta 0:00:01\r\u001b[K     |███████████▏                    | 245kB 11.0MB/s eta 0:00:01\r\u001b[K     |███████████▋                    | 256kB 11.0MB/s eta 0:00:01\r\u001b[K     |████████████▏                   | 266kB 11.0MB/s eta 0:00:01\r\u001b[K     |████████████▋                   | 276kB 11.0MB/s eta 0:00:01\r\u001b[K     |█████████████                   | 286kB 11.0MB/s eta 0:00:01\r\u001b[K     |█████████████▌                  | 296kB 11.0MB/s eta 0:00:01\r\u001b[K     |██████████████                  | 307kB 11.0MB/s eta 0:00:01\r\u001b[K     |██████████████▍                 | 317kB 11.0MB/s eta 0:00:01\r\u001b[K     |███████████████                 | 327kB 11.0MB/s eta 0:00:01\r\u001b[K     |███████████████▍                | 337kB 11.0MB/s eta 0:00:01\r\u001b[K     |███████████████▉                | 348kB 11.0MB/s eta 0:00:01\r\u001b[K     |████████████████▎               | 358kB 11.0MB/s eta 0:00:01\r\u001b[K     |████████████████▊               | 368kB 11.0MB/s eta 0:00:01\r\u001b[K     |█████████████████▎              | 378kB 11.0MB/s eta 0:00:01\r\u001b[K     |█████████████████▊              | 389kB 11.0MB/s eta 0:00:01\r\u001b[K     |██████████████████▏             | 399kB 11.0MB/s eta 0:00:01\r\u001b[K     |██████████████████▋             | 409kB 11.0MB/s eta 0:00:01\r\u001b[K     |███████████████████             | 419kB 11.0MB/s eta 0:00:01\r\u001b[K     |███████████████████▋            | 430kB 11.0MB/s eta 0:00:01\r\u001b[K     |████████████████████            | 440kB 11.0MB/s eta 0:00:01\r\u001b[K     |████████████████████▌           | 450kB 11.0MB/s eta 0:00:01\r\u001b[K     |█████████████████████           | 460kB 11.0MB/s eta 0:00:01\r\u001b[K     |█████████████████████▍          | 471kB 11.0MB/s eta 0:00:01\r\u001b[K     |██████████████████████          | 481kB 11.0MB/s eta 0:00:01\r\u001b[K     |██████████████████████▍         | 491kB 11.0MB/s eta 0:00:01\r\u001b[K     |██████████████████████▉         | 501kB 11.0MB/s eta 0:00:01\r\u001b[K     |███████████████████████▎        | 512kB 11.0MB/s eta 0:00:01\r\u001b[K     |███████████████████████▊        | 522kB 11.0MB/s eta 0:00:01\r\u001b[K     |████████████████████████▎       | 532kB 11.0MB/s eta 0:00:01\r\u001b[K     |████████████████████████▊       | 542kB 11.0MB/s eta 0:00:01\r\u001b[K     |█████████████████████████▏      | 552kB 11.0MB/s eta 0:00:01\r\u001b[K     |█████████████████████████▋      | 563kB 11.0MB/s eta 0:00:01\r\u001b[K     |██████████████████████████      | 573kB 11.0MB/s eta 0:00:01\r\u001b[K     |██████████████████████████▌     | 583kB 11.0MB/s eta 0:00:01\r\u001b[K     |███████████████████████████     | 593kB 11.0MB/s eta 0:00:01\r\u001b[K     |███████████████████████████▌    | 604kB 11.0MB/s eta 0:00:01\r\u001b[K     |████████████████████████████    | 614kB 11.0MB/s eta 0:00:01\r\u001b[K     |████████████████████████████▍   | 624kB 11.0MB/s eta 0:00:01\r\u001b[K     |████████████████████████████▉   | 634kB 11.0MB/s eta 0:00:01\r\u001b[K     |█████████████████████████████▍  | 645kB 11.0MB/s eta 0:00:01\r\u001b[K     |█████████████████████████████▉  | 655kB 11.0MB/s eta 0:00:01\r\u001b[K     |██████████████████████████████▎ | 665kB 11.0MB/s eta 0:00:01\r\u001b[K     |██████████████████████████████▊ | 675kB 11.0MB/s eta 0:00:01\r\u001b[K     |███████████████████████████████▏| 686kB 11.0MB/s eta 0:00:01\r\u001b[K     |███████████████████████████████▊| 696kB 11.0MB/s eta 0:00:01\r\u001b[K     |████████████████████████████████| 706kB 11.0MB/s \n",
            "\u001b[?25hRequirement already satisfied, skipping upgrade: typeguard>=2.7 in /usr/local/lib/python3.6/dist-packages (from tensorflow-addons) (2.7.1)\n",
            "Installing collected packages: tensorflow-addons\n",
            "  Found existing installation: tensorflow-addons 0.8.3\n",
            "    Uninstalling tensorflow-addons-0.8.3:\n",
            "      Successfully uninstalled tensorflow-addons-0.8.3\n",
            "Successfully installed tensorflow-addons-0.12.0\n"
          ],
          "name": "stdout"
        }
      ]
    },
    {
      "cell_type": "code",
      "metadata": {
        "id": "Y4vedS_wsBMb"
      },
      "source": [
        "import tensorflow_addons as tfa"
      ],
      "execution_count": null,
      "outputs": []
    },
    {
      "cell_type": "code",
      "metadata": {
        "id": "MfVWQ7-UZuGd"
      },
      "source": [
        "data=pd.read_csv('/content/drive/MyDrive/dataset/Quora Insincere Question/Quora-Insincere-Question.zip',compression='zip')"
      ],
      "execution_count": null,
      "outputs": []
    },
    {
      "cell_type": "code",
      "metadata": {
        "id": "vf2GYBxFZ8hV",
        "colab": {
          "base_uri": "https://localhost:8080/"
        },
        "outputId": "173073d2-72d5-429f-c52f-d1092b9d4006"
      },
      "source": [
        "data.columns"
      ],
      "execution_count": null,
      "outputs": [
        {
          "output_type": "execute_result",
          "data": {
            "text/plain": [
              "Index(['qid', 'question_text', 'target'], dtype='object')"
            ]
          },
          "metadata": {
            "tags": []
          },
          "execution_count": 5
        }
      ]
    },
    {
      "cell_type": "code",
      "metadata": {
        "id": "wnclUt4DjD17"
      },
      "source": [
        "data.drop(columns=['qid'],inplace=True)"
      ],
      "execution_count": null,
      "outputs": []
    },
    {
      "cell_type": "code",
      "metadata": {
        "colab": {
          "base_uri": "https://localhost:8080/"
        },
        "id": "LFKKRezmjMci",
        "outputId": "c605b2d4-7aea-4994-d824-5b83e4d2a67b"
      },
      "source": [
        "data['target'].value_counts()"
      ],
      "execution_count": null,
      "outputs": [
        {
          "output_type": "execute_result",
          "data": {
            "text/plain": [
              "0    1225312\n",
              "1      80810\n",
              "Name: target, dtype: int64"
            ]
          },
          "metadata": {
            "tags": []
          },
          "execution_count": 7
        }
      ]
    },
    {
      "cell_type": "code",
      "metadata": {
        "id": "KyjXftYXjNPG"
      },
      "source": [
        "data0=data[data['target']==0]\n",
        "data1=data[data['target']==1]"
      ],
      "execution_count": null,
      "outputs": []
    },
    {
      "cell_type": "code",
      "metadata": {
        "id": "-INptDxBjwhP"
      },
      "source": [
        "data00=data0[:30000]\n",
        "data11=data1[:30000]"
      ],
      "execution_count": null,
      "outputs": []
    },
    {
      "cell_type": "code",
      "metadata": {
        "id": "hNmC5YhXkAeR"
      },
      "source": [
        "new_data=pd.concat([data00,data11])\n",
        "new_data.reset_index(inplace=True)"
      ],
      "execution_count": null,
      "outputs": []
    },
    {
      "cell_type": "code",
      "metadata": {
        "id": "WMFYrRGokTro"
      },
      "source": [
        "from sklearn.utils import shuffle\n",
        "new_data = shuffle(new_data)"
      ],
      "execution_count": null,
      "outputs": []
    },
    {
      "cell_type": "code",
      "metadata": {
        "id": "K4lnLo4rkf7D"
      },
      "source": [
        "new_data.reset_index(inplace=True)\n",
        "new_data.drop(columns=['level_0','index'],inplace=True)"
      ],
      "execution_count": null,
      "outputs": []
    },
    {
      "cell_type": "code",
      "metadata": {
        "id": "ZuxdzkExktGl"
      },
      "source": [
        "import re\n",
        "def preprocess(w):\n",
        "  w=w.lower()\n",
        "  w=re.sub(r\"([?.!,%&^%$#@])\",r\" \",w)\n",
        "  w=re.sub(r'[\" \"]+',\" \",w)\n",
        "  w=re.sub(r\"[^a-zA-Z?.!,]+\",\" \",w)\n",
        "  w=w.strip()\n",
        "  return w"
      ],
      "execution_count": null,
      "outputs": []
    },
    {
      "cell_type": "code",
      "metadata": {
        "id": "IjLvIPmJmxfc"
      },
      "source": [
        "ddata=list(map(preprocess,new_data['question_text']))"
      ],
      "execution_count": null,
      "outputs": []
    },
    {
      "cell_type": "code",
      "metadata": {
        "colab": {
          "base_uri": "https://localhost:8080/"
        },
        "id": "iwy8D_Dlm-O0",
        "outputId": "52cf22d6-7b22-4cf9-e1e3-c49869999f47"
      },
      "source": [
        "len(ddata)"
      ],
      "execution_count": null,
      "outputs": [
        {
          "output_type": "execute_result",
          "data": {
            "text/plain": [
              "60000"
            ]
          },
          "metadata": {
            "tags": []
          },
          "execution_count": 15
        }
      ]
    },
    {
      "cell_type": "code",
      "metadata": {
        "colab": {
          "base_uri": "https://localhost:8080/",
          "height": 664,
          "referenced_widgets": [
            "a62b4f304a0a400eafe308c8098b3bae",
            "219a72024b0e4209abfeaa57a4db35c5",
            "2cf22d5f429043ada0e16facbdb489d6",
            "4d202fa2e9f448c9aba024223fa39d50",
            "ecaf3768dcc54721a6f87305407465c8",
            "4eea1e004e5f48ccbda47de193688c9e",
            "68d757a7fae54b88bfeb34c966cde111",
            "2137a472fa1c4203abe6ff5dcb210568"
          ]
        },
        "id": "asyivKQkm_Aq",
        "outputId": "ed82227d-15b5-4310-81a8-4feedd5528c5"
      },
      "source": [
        "! pip install transformers\n",
        "from transformers import BertTokenizer\n",
        "tokenizer=BertTokenizer.from_pretrained('bert-base-uncased')"
      ],
      "execution_count": null,
      "outputs": [
        {
          "output_type": "stream",
          "text": [
            "Collecting transformers\n",
            "\u001b[?25l  Downloading https://files.pythonhosted.org/packages/88/b1/41130a228dd656a1a31ba281598a968320283f48d42782845f6ba567f00b/transformers-4.2.2-py3-none-any.whl (1.8MB)\n",
            "\r\u001b[K     |▏                               | 10kB 18.1MB/s eta 0:00:01\r\u001b[K     |▍                               | 20kB 16.7MB/s eta 0:00:01\r\u001b[K     |▋                               | 30kB 15.8MB/s eta 0:00:01\r\u001b[K     |▊                               | 40kB 14.0MB/s eta 0:00:01\r\u001b[K     |█                               | 51kB 11.8MB/s eta 0:00:01\r\u001b[K     |█▏                              | 61kB 11.9MB/s eta 0:00:01\r\u001b[K     |█▎                              | 71kB 11.7MB/s eta 0:00:01\r\u001b[K     |█▌                              | 81kB 12.7MB/s eta 0:00:01\r\u001b[K     |█▊                              | 92kB 11.4MB/s eta 0:00:01\r\u001b[K     |█▉                              | 102kB 10.7MB/s eta 0:00:01\r\u001b[K     |██                              | 112kB 10.7MB/s eta 0:00:01\r\u001b[K     |██▎                             | 122kB 10.7MB/s eta 0:00:01\r\u001b[K     |██▍                             | 133kB 10.7MB/s eta 0:00:01\r\u001b[K     |██▋                             | 143kB 10.7MB/s eta 0:00:01\r\u001b[K     |██▉                             | 153kB 10.7MB/s eta 0:00:01\r\u001b[K     |███                             | 163kB 10.7MB/s eta 0:00:01\r\u001b[K     |███▏                            | 174kB 10.7MB/s eta 0:00:01\r\u001b[K     |███▍                            | 184kB 10.7MB/s eta 0:00:01\r\u001b[K     |███▌                            | 194kB 10.7MB/s eta 0:00:01\r\u001b[K     |███▊                            | 204kB 10.7MB/s eta 0:00:01\r\u001b[K     |████                            | 215kB 10.7MB/s eta 0:00:01\r\u001b[K     |████                            | 225kB 10.7MB/s eta 0:00:01\r\u001b[K     |████▎                           | 235kB 10.7MB/s eta 0:00:01\r\u001b[K     |████▌                           | 245kB 10.7MB/s eta 0:00:01\r\u001b[K     |████▋                           | 256kB 10.7MB/s eta 0:00:01\r\u001b[K     |████▉                           | 266kB 10.7MB/s eta 0:00:01\r\u001b[K     |█████                           | 276kB 10.7MB/s eta 0:00:01\r\u001b[K     |█████▏                          | 286kB 10.7MB/s eta 0:00:01\r\u001b[K     |█████▍                          | 296kB 10.7MB/s eta 0:00:01\r\u001b[K     |█████▋                          | 307kB 10.7MB/s eta 0:00:01\r\u001b[K     |█████▊                          | 317kB 10.7MB/s eta 0:00:01\r\u001b[K     |██████                          | 327kB 10.7MB/s eta 0:00:01\r\u001b[K     |██████▏                         | 337kB 10.7MB/s eta 0:00:01\r\u001b[K     |██████▎                         | 348kB 10.7MB/s eta 0:00:01\r\u001b[K     |██████▌                         | 358kB 10.7MB/s eta 0:00:01\r\u001b[K     |██████▊                         | 368kB 10.7MB/s eta 0:00:01\r\u001b[K     |██████▉                         | 378kB 10.7MB/s eta 0:00:01\r\u001b[K     |███████                         | 389kB 10.7MB/s eta 0:00:01\r\u001b[K     |███████▎                        | 399kB 10.7MB/s eta 0:00:01\r\u001b[K     |███████▍                        | 409kB 10.7MB/s eta 0:00:01\r\u001b[K     |███████▋                        | 419kB 10.7MB/s eta 0:00:01\r\u001b[K     |███████▉                        | 430kB 10.7MB/s eta 0:00:01\r\u001b[K     |████████                        | 440kB 10.7MB/s eta 0:00:01\r\u001b[K     |████████▏                       | 450kB 10.7MB/s eta 0:00:01\r\u001b[K     |████████▍                       | 460kB 10.7MB/s eta 0:00:01\r\u001b[K     |████████▌                       | 471kB 10.7MB/s eta 0:00:01\r\u001b[K     |████████▊                       | 481kB 10.7MB/s eta 0:00:01\r\u001b[K     |█████████                       | 491kB 10.7MB/s eta 0:00:01\r\u001b[K     |█████████                       | 501kB 10.7MB/s eta 0:00:01\r\u001b[K     |█████████▎                      | 512kB 10.7MB/s eta 0:00:01\r\u001b[K     |█████████▌                      | 522kB 10.7MB/s eta 0:00:01\r\u001b[K     |█████████▋                      | 532kB 10.7MB/s eta 0:00:01\r\u001b[K     |█████████▉                      | 542kB 10.7MB/s eta 0:00:01\r\u001b[K     |██████████                      | 552kB 10.7MB/s eta 0:00:01\r\u001b[K     |██████████▏                     | 563kB 10.7MB/s eta 0:00:01\r\u001b[K     |██████████▍                     | 573kB 10.7MB/s eta 0:00:01\r\u001b[K     |██████████▋                     | 583kB 10.7MB/s eta 0:00:01\r\u001b[K     |██████████▊                     | 593kB 10.7MB/s eta 0:00:01\r\u001b[K     |███████████                     | 604kB 10.7MB/s eta 0:00:01\r\u001b[K     |███████████▏                    | 614kB 10.7MB/s eta 0:00:01\r\u001b[K     |███████████▎                    | 624kB 10.7MB/s eta 0:00:01\r\u001b[K     |███████████▌                    | 634kB 10.7MB/s eta 0:00:01\r\u001b[K     |███████████▊                    | 645kB 10.7MB/s eta 0:00:01\r\u001b[K     |███████████▉                    | 655kB 10.7MB/s eta 0:00:01\r\u001b[K     |████████████                    | 665kB 10.7MB/s eta 0:00:01\r\u001b[K     |████████████▎                   | 675kB 10.7MB/s eta 0:00:01\r\u001b[K     |████████████▍                   | 686kB 10.7MB/s eta 0:00:01\r\u001b[K     |████████████▋                   | 696kB 10.7MB/s eta 0:00:01\r\u001b[K     |████████████▉                   | 706kB 10.7MB/s eta 0:00:01\r\u001b[K     |█████████████                   | 716kB 10.7MB/s eta 0:00:01\r\u001b[K     |█████████████▏                  | 727kB 10.7MB/s eta 0:00:01\r\u001b[K     |█████████████▍                  | 737kB 10.7MB/s eta 0:00:01\r\u001b[K     |█████████████▌                  | 747kB 10.7MB/s eta 0:00:01\r\u001b[K     |█████████████▊                  | 757kB 10.7MB/s eta 0:00:01\r\u001b[K     |██████████████                  | 768kB 10.7MB/s eta 0:00:01\r\u001b[K     |██████████████                  | 778kB 10.7MB/s eta 0:00:01\r\u001b[K     |██████████████▎                 | 788kB 10.7MB/s eta 0:00:01\r\u001b[K     |██████████████▌                 | 798kB 10.7MB/s eta 0:00:01\r\u001b[K     |██████████████▋                 | 808kB 10.7MB/s eta 0:00:01\r\u001b[K     |██████████████▉                 | 819kB 10.7MB/s eta 0:00:01\r\u001b[K     |███████████████                 | 829kB 10.7MB/s eta 0:00:01\r\u001b[K     |███████████████▏                | 839kB 10.7MB/s eta 0:00:01\r\u001b[K     |███████████████▍                | 849kB 10.7MB/s eta 0:00:01\r\u001b[K     |███████████████▋                | 860kB 10.7MB/s eta 0:00:01\r\u001b[K     |███████████████▊                | 870kB 10.7MB/s eta 0:00:01\r\u001b[K     |████████████████                | 880kB 10.7MB/s eta 0:00:01\r\u001b[K     |████████████████▏               | 890kB 10.7MB/s eta 0:00:01\r\u001b[K     |████████████████▎               | 901kB 10.7MB/s eta 0:00:01\r\u001b[K     |████████████████▌               | 911kB 10.7MB/s eta 0:00:01\r\u001b[K     |████████████████▊               | 921kB 10.7MB/s eta 0:00:01\r\u001b[K     |████████████████▉               | 931kB 10.7MB/s eta 0:00:01\r\u001b[K     |█████████████████               | 942kB 10.7MB/s eta 0:00:01\r\u001b[K     |█████████████████▎              | 952kB 10.7MB/s eta 0:00:01\r\u001b[K     |█████████████████▍              | 962kB 10.7MB/s eta 0:00:01\r\u001b[K     |█████████████████▋              | 972kB 10.7MB/s eta 0:00:01\r\u001b[K     |█████████████████▉              | 983kB 10.7MB/s eta 0:00:01\r\u001b[K     |██████████████████              | 993kB 10.7MB/s eta 0:00:01\r\u001b[K     |██████████████████▏             | 1.0MB 10.7MB/s eta 0:00:01\r\u001b[K     |██████████████████▍             | 1.0MB 10.7MB/s eta 0:00:01\r\u001b[K     |██████████████████▌             | 1.0MB 10.7MB/s eta 0:00:01\r\u001b[K     |██████████████████▊             | 1.0MB 10.7MB/s eta 0:00:01\r\u001b[K     |███████████████████             | 1.0MB 10.7MB/s eta 0:00:01\r\u001b[K     |███████████████████             | 1.1MB 10.7MB/s eta 0:00:01\r\u001b[K     |███████████████████▎            | 1.1MB 10.7MB/s eta 0:00:01\r\u001b[K     |███████████████████▌            | 1.1MB 10.7MB/s eta 0:00:01\r\u001b[K     |███████████████████▋            | 1.1MB 10.7MB/s eta 0:00:01\r\u001b[K     |███████████████████▉            | 1.1MB 10.7MB/s eta 0:00:01\r\u001b[K     |████████████████████            | 1.1MB 10.7MB/s eta 0:00:01\r\u001b[K     |████████████████████▏           | 1.1MB 10.7MB/s eta 0:00:01\r\u001b[K     |████████████████████▍           | 1.1MB 10.7MB/s eta 0:00:01\r\u001b[K     |████████████████████▋           | 1.1MB 10.7MB/s eta 0:00:01\r\u001b[K     |████████████████████▊           | 1.1MB 10.7MB/s eta 0:00:01\r\u001b[K     |█████████████████████           | 1.2MB 10.7MB/s eta 0:00:01\r\u001b[K     |█████████████████████▏          | 1.2MB 10.7MB/s eta 0:00:01\r\u001b[K     |█████████████████████▎          | 1.2MB 10.7MB/s eta 0:00:01\r\u001b[K     |█████████████████████▌          | 1.2MB 10.7MB/s eta 0:00:01\r\u001b[K     |█████████████████████▊          | 1.2MB 10.7MB/s eta 0:00:01\r\u001b[K     |█████████████████████▉          | 1.2MB 10.7MB/s eta 0:00:01\r\u001b[K     |██████████████████████          | 1.2MB 10.7MB/s eta 0:00:01\r\u001b[K     |██████████████████████▎         | 1.2MB 10.7MB/s eta 0:00:01\r\u001b[K     |██████████████████████▍         | 1.2MB 10.7MB/s eta 0:00:01\r\u001b[K     |██████████████████████▋         | 1.2MB 10.7MB/s eta 0:00:01\r\u001b[K     |██████████████████████▉         | 1.3MB 10.7MB/s eta 0:00:01\r\u001b[K     |███████████████████████         | 1.3MB 10.7MB/s eta 0:00:01\r\u001b[K     |███████████████████████▏        | 1.3MB 10.7MB/s eta 0:00:01\r\u001b[K     |███████████████████████▍        | 1.3MB 10.7MB/s eta 0:00:01\r\u001b[K     |███████████████████████▌        | 1.3MB 10.7MB/s eta 0:00:01\r\u001b[K     |███████████████████████▊        | 1.3MB 10.7MB/s eta 0:00:01\r\u001b[K     |████████████████████████        | 1.3MB 10.7MB/s eta 0:00:01\r\u001b[K     |████████████████████████        | 1.3MB 10.7MB/s eta 0:00:01\r\u001b[K     |████████████████████████▎       | 1.3MB 10.7MB/s eta 0:00:01\r\u001b[K     |████████████████████████▌       | 1.4MB 10.7MB/s eta 0:00:01\r\u001b[K     |████████████████████████▊       | 1.4MB 10.7MB/s eta 0:00:01\r\u001b[K     |████████████████████████▉       | 1.4MB 10.7MB/s eta 0:00:01\r\u001b[K     |█████████████████████████       | 1.4MB 10.7MB/s eta 0:00:01\r\u001b[K     |█████████████████████████▎      | 1.4MB 10.7MB/s eta 0:00:01\r\u001b[K     |█████████████████████████▍      | 1.4MB 10.7MB/s eta 0:00:01\r\u001b[K     |█████████████████████████▋      | 1.4MB 10.7MB/s eta 0:00:01\r\u001b[K     |█████████████████████████▉      | 1.4MB 10.7MB/s eta 0:00:01\r\u001b[K     |██████████████████████████      | 1.4MB 10.7MB/s eta 0:00:01\r\u001b[K     |██████████████████████████▏     | 1.4MB 10.7MB/s eta 0:00:01\r\u001b[K     |██████████████████████████▍     | 1.5MB 10.7MB/s eta 0:00:01\r\u001b[K     |██████████████████████████▌     | 1.5MB 10.7MB/s eta 0:00:01\r\u001b[K     |██████████████████████████▊     | 1.5MB 10.7MB/s eta 0:00:01\r\u001b[K     |███████████████████████████     | 1.5MB 10.7MB/s eta 0:00:01\r\u001b[K     |███████████████████████████     | 1.5MB 10.7MB/s eta 0:00:01\r\u001b[K     |███████████████████████████▎    | 1.5MB 10.7MB/s eta 0:00:01\r\u001b[K     |███████████████████████████▌    | 1.5MB 10.7MB/s eta 0:00:01\r\u001b[K     |███████████████████████████▋    | 1.5MB 10.7MB/s eta 0:00:01\r\u001b[K     |███████████████████████████▉    | 1.5MB 10.7MB/s eta 0:00:01\r\u001b[K     |████████████████████████████    | 1.5MB 10.7MB/s eta 0:00:01\r\u001b[K     |████████████████████████████▏   | 1.6MB 10.7MB/s eta 0:00:01\r\u001b[K     |████████████████████████████▍   | 1.6MB 10.7MB/s eta 0:00:01\r\u001b[K     |████████████████████████████▋   | 1.6MB 10.7MB/s eta 0:00:01\r\u001b[K     |████████████████████████████▊   | 1.6MB 10.7MB/s eta 0:00:01\r\u001b[K     |█████████████████████████████   | 1.6MB 10.7MB/s eta 0:00:01\r\u001b[K     |█████████████████████████████▏  | 1.6MB 10.7MB/s eta 0:00:01\r\u001b[K     |█████████████████████████████▎  | 1.6MB 10.7MB/s eta 0:00:01\r\u001b[K     |█████████████████████████████▌  | 1.6MB 10.7MB/s eta 0:00:01\r\u001b[K     |█████████████████████████████▊  | 1.6MB 10.7MB/s eta 0:00:01\r\u001b[K     |█████████████████████████████▉  | 1.6MB 10.7MB/s eta 0:00:01\r\u001b[K     |██████████████████████████████  | 1.7MB 10.7MB/s eta 0:00:01\r\u001b[K     |██████████████████████████████▎ | 1.7MB 10.7MB/s eta 0:00:01\r\u001b[K     |██████████████████████████████▍ | 1.7MB 10.7MB/s eta 0:00:01\r\u001b[K     |██████████████████████████████▋ | 1.7MB 10.7MB/s eta 0:00:01\r\u001b[K     |██████████████████████████████▉ | 1.7MB 10.7MB/s eta 0:00:01\r\u001b[K     |███████████████████████████████ | 1.7MB 10.7MB/s eta 0:00:01\r\u001b[K     |███████████████████████████████▏| 1.7MB 10.7MB/s eta 0:00:01\r\u001b[K     |███████████████████████████████▍| 1.7MB 10.7MB/s eta 0:00:01\r\u001b[K     |███████████████████████████████▌| 1.7MB 10.7MB/s eta 0:00:01\r\u001b[K     |███████████████████████████████▊| 1.8MB 10.7MB/s eta 0:00:01\r\u001b[K     |████████████████████████████████| 1.8MB 10.7MB/s eta 0:00:01\r\u001b[K     |████████████████████████████████| 1.8MB 10.7MB/s \n",
            "\u001b[?25hRequirement already satisfied: regex!=2019.12.17 in /usr/local/lib/python3.6/dist-packages (from transformers) (2019.12.20)\n",
            "Requirement already satisfied: numpy in /usr/local/lib/python3.6/dist-packages (from transformers) (1.19.5)\n",
            "Requirement already satisfied: importlib-metadata; python_version < \"3.8\" in /usr/local/lib/python3.6/dist-packages (from transformers) (3.3.0)\n",
            "Requirement already satisfied: tqdm>=4.27 in /usr/local/lib/python3.6/dist-packages (from transformers) (4.41.1)\n",
            "Requirement already satisfied: filelock in /usr/local/lib/python3.6/dist-packages (from transformers) (3.0.12)\n",
            "Requirement already satisfied: packaging in /usr/local/lib/python3.6/dist-packages (from transformers) (20.8)\n",
            "Collecting sacremoses\n",
            "\u001b[?25l  Downloading https://files.pythonhosted.org/packages/7d/34/09d19aff26edcc8eb2a01bed8e98f13a1537005d31e95233fd48216eed10/sacremoses-0.0.43.tar.gz (883kB)\n",
            "\u001b[K     |████████████████████████████████| 890kB 42.4MB/s \n",
            "\u001b[?25hRequirement already satisfied: dataclasses; python_version < \"3.7\" in /usr/local/lib/python3.6/dist-packages (from transformers) (0.8)\n",
            "Collecting tokenizers==0.9.4\n",
            "\u001b[?25l  Downloading https://files.pythonhosted.org/packages/0f/1c/e789a8b12e28be5bc1ce2156cf87cb522b379be9cadc7ad8091a4cc107c4/tokenizers-0.9.4-cp36-cp36m-manylinux2010_x86_64.whl (2.9MB)\n",
            "\u001b[K     |████████████████████████████████| 2.9MB 38.2MB/s \n",
            "\u001b[?25hRequirement already satisfied: requests in /usr/local/lib/python3.6/dist-packages (from transformers) (2.23.0)\n",
            "Requirement already satisfied: typing-extensions>=3.6.4; python_version < \"3.8\" in /usr/local/lib/python3.6/dist-packages (from importlib-metadata; python_version < \"3.8\"->transformers) (3.7.4.3)\n",
            "Requirement already satisfied: zipp>=0.5 in /usr/local/lib/python3.6/dist-packages (from importlib-metadata; python_version < \"3.8\"->transformers) (3.4.0)\n",
            "Requirement already satisfied: pyparsing>=2.0.2 in /usr/local/lib/python3.6/dist-packages (from packaging->transformers) (2.4.7)\n",
            "Requirement already satisfied: six in /usr/local/lib/python3.6/dist-packages (from sacremoses->transformers) (1.15.0)\n",
            "Requirement already satisfied: click in /usr/local/lib/python3.6/dist-packages (from sacremoses->transformers) (7.1.2)\n",
            "Requirement already satisfied: joblib in /usr/local/lib/python3.6/dist-packages (from sacremoses->transformers) (1.0.0)\n",
            "Requirement already satisfied: certifi>=2017.4.17 in /usr/local/lib/python3.6/dist-packages (from requests->transformers) (2020.12.5)\n",
            "Requirement already satisfied: urllib3!=1.25.0,!=1.25.1,<1.26,>=1.21.1 in /usr/local/lib/python3.6/dist-packages (from requests->transformers) (1.24.3)\n",
            "Requirement already satisfied: chardet<4,>=3.0.2 in /usr/local/lib/python3.6/dist-packages (from requests->transformers) (3.0.4)\n",
            "Requirement already satisfied: idna<3,>=2.5 in /usr/local/lib/python3.6/dist-packages (from requests->transformers) (2.10)\n",
            "Building wheels for collected packages: sacremoses\n",
            "  Building wheel for sacremoses (setup.py) ... \u001b[?25l\u001b[?25hdone\n",
            "  Created wheel for sacremoses: filename=sacremoses-0.0.43-cp36-none-any.whl size=893261 sha256=7b6a38a5d46ccd37926b74753871ee263b9f0763bc689976dd609cf8e27591b1\n",
            "  Stored in directory: /root/.cache/pip/wheels/29/3c/fd/7ce5c3f0666dab31a50123635e6fb5e19ceb42ce38d4e58f45\n",
            "Successfully built sacremoses\n",
            "Installing collected packages: sacremoses, tokenizers, transformers\n",
            "Successfully installed sacremoses-0.0.43 tokenizers-0.9.4 transformers-4.2.2\n"
          ],
          "name": "stdout"
        },
        {
          "output_type": "display_data",
          "data": {
            "application/vnd.jupyter.widget-view+json": {
              "model_id": "a62b4f304a0a400eafe308c8098b3bae",
              "version_minor": 0,
              "version_major": 2
            },
            "text/plain": [
              "HBox(children=(FloatProgress(value=0.0, description='Downloading', max=231508.0, style=ProgressStyle(descripti…"
            ]
          },
          "metadata": {
            "tags": []
          }
        },
        {
          "output_type": "stream",
          "text": [
            "\n"
          ],
          "name": "stdout"
        }
      ]
    },
    {
      "cell_type": "code",
      "metadata": {
        "id": "b6D_OZBmnG3q"
      },
      "source": [
        "train_data=ddata[:50000]\n",
        "test_data=ddata[50000:]"
      ],
      "execution_count": null,
      "outputs": []
    },
    {
      "cell_type": "code",
      "metadata": {
        "id": "FYMXf-RMnQKF"
      },
      "source": [
        "inputs=tokenizer(train_data,return_tensors='tf',padding=True,truncation=True,max_length=64)\n",
        "inputs1=tokenizer(test_data,return_tensors='tf',padding=True,truncation=True,max_length=64)"
      ],
      "execution_count": null,
      "outputs": []
    },
    {
      "cell_type": "code",
      "metadata": {
        "id": "RTVl27M7-BAF"
      },
      "source": [
        "inputs11=tokenizer(test_data,return_tensors='tf',padding=True,max_length=64)"
      ],
      "execution_count": null,
      "outputs": []
    },
    {
      "cell_type": "code",
      "metadata": {
        "colab": {
          "base_uri": "https://localhost:8080/"
        },
        "id": "2vVVOH8knYo_",
        "outputId": "049e95af-0b70-416b-9ca4-29a94af3128f"
      },
      "source": [
        "tokenizer.get_vocab"
      ],
      "execution_count": null,
      "outputs": [
        {
          "output_type": "execute_result",
          "data": {
            "text/plain": [
              "<bound method BertTokenizer.get_vocab of PreTrainedTokenizer(name_or_path='bert-base-uncased', vocab_size=30522, model_max_len=512, is_fast=False, padding_side='right', special_tokens={'unk_token': '[UNK]', 'sep_token': '[SEP]', 'pad_token': '[PAD]', 'cls_token': '[CLS]', 'mask_token': '[MASK]'})>"
            ]
          },
          "metadata": {
            "tags": []
          },
          "execution_count": 20
        }
      ]
    },
    {
      "cell_type": "code",
      "metadata": {
        "colab": {
          "base_uri": "https://localhost:8080/"
        },
        "id": "3eQlkGsz-Oj-",
        "outputId": "a65242ae-6543-4ebf-b54c-468d4f6c3535"
      },
      "source": [
        "len(test_data)"
      ],
      "execution_count": null,
      "outputs": [
        {
          "output_type": "execute_result",
          "data": {
            "text/plain": [
              "10000"
            ]
          },
          "metadata": {
            "tags": []
          },
          "execution_count": 21
        }
      ]
    },
    {
      "cell_type": "code",
      "metadata": {
        "id": "RBO1ZW6W8GzX",
        "colab": {
          "base_uri": "https://localhost:8080/"
        },
        "outputId": "969cec97-a533-43c7-b190-67216add8796"
      },
      "source": [
        "inputs11"
      ],
      "execution_count": null,
      "outputs": [
        {
          "output_type": "execute_result",
          "data": {
            "text/plain": [
              "{'input_ids': <tf.Tensor: shape=(10000, 189), dtype=int32, numpy=\n",
              "array([[ 101, 2054, 2079, ...,    0,    0,    0],\n",
              "       [ 101, 2339, 2079, ...,    0,    0,    0],\n",
              "       [ 101, 2339, 2024, ...,    0,    0,    0],\n",
              "       ...,\n",
              "       [ 101, 2339, 2003, ...,    0,    0,    0],\n",
              "       [ 101, 2129, 2106, ...,    0,    0,    0],\n",
              "       [ 101, 2054, 2003, ...,    0,    0,    0]], dtype=int32)>, 'token_type_ids': <tf.Tensor: shape=(10000, 189), dtype=int32, numpy=\n",
              "array([[0, 0, 0, ..., 0, 0, 0],\n",
              "       [0, 0, 0, ..., 0, 0, 0],\n",
              "       [0, 0, 0, ..., 0, 0, 0],\n",
              "       ...,\n",
              "       [0, 0, 0, ..., 0, 0, 0],\n",
              "       [0, 0, 0, ..., 0, 0, 0],\n",
              "       [0, 0, 0, ..., 0, 0, 0]], dtype=int32)>, 'attention_mask': <tf.Tensor: shape=(10000, 189), dtype=int32, numpy=\n",
              "array([[1, 1, 1, ..., 0, 0, 0],\n",
              "       [1, 1, 1, ..., 0, 0, 0],\n",
              "       [1, 1, 1, ..., 0, 0, 0],\n",
              "       ...,\n",
              "       [1, 1, 1, ..., 0, 0, 0],\n",
              "       [1, 1, 1, ..., 0, 0, 0],\n",
              "       [1, 1, 1, ..., 0, 0, 0]], dtype=int32)>}"
            ]
          },
          "metadata": {
            "tags": []
          },
          "execution_count": 22
        }
      ]
    },
    {
      "cell_type": "code",
      "metadata": {
        "id": "e3WfqrpQneQg"
      },
      "source": [
        "train_data1=inputs['input_ids']\n",
        "test_data1=inputs1['input_ids']"
      ],
      "execution_count": null,
      "outputs": []
    },
    {
      "cell_type": "code",
      "metadata": {
        "id": "bU6YaShdnnkk",
        "colab": {
          "base_uri": "https://localhost:8080/"
        },
        "outputId": "0fd7160e-ed30-4b65-df34-6280b0ba8fa8"
      },
      "source": [
        "next(iter(train_data1))"
      ],
      "execution_count": null,
      "outputs": [
        {
          "output_type": "execute_result",
          "data": {
            "text/plain": [
              "<tf.Tensor: shape=(64,), dtype=int32, numpy=\n",
              "array([  101,  2339,  2003, 22035,  2527,  3561,  2007, 10469,  2015,\n",
              "         102,     0,     0,     0,     0,     0,     0,     0,     0,\n",
              "           0,     0,     0,     0,     0,     0,     0,     0,     0,\n",
              "           0,     0,     0,     0,     0,     0,     0,     0,     0,\n",
              "           0,     0,     0,     0,     0,     0,     0,     0,     0,\n",
              "           0,     0,     0,     0,     0,     0,     0,     0,     0,\n",
              "           0,     0,     0,     0,     0,     0,     0,     0,     0,\n",
              "           0], dtype=int32)>"
            ]
          },
          "metadata": {
            "tags": []
          },
          "execution_count": 24
        }
      ]
    },
    {
      "cell_type": "code",
      "metadata": {
        "colab": {
          "base_uri": "https://localhost:8080/"
        },
        "id": "O1kK80QbpjUW",
        "outputId": "5feb8d2b-1433-4c35-e387-a3e0b2c6dfad"
      },
      "source": [
        "tf.range(start=0, limit=10, delta=1)"
      ],
      "execution_count": null,
      "outputs": [
        {
          "output_type": "execute_result",
          "data": {
            "text/plain": [
              "<tf.Tensor: shape=(10,), dtype=int32, numpy=array([0, 1, 2, 3, 4, 5, 6, 7, 8, 9], dtype=int32)>"
            ]
          },
          "metadata": {
            "tags": []
          },
          "execution_count": 25
        }
      ]
    },
    {
      "cell_type": "code",
      "metadata": {
        "id": "D2BHNqbHoaSd"
      },
      "source": [
        "class Embedding(tf.keras.layers.Layer):\n",
        "  def __init__(self,projection_dim):\n",
        "    super(Embedding,self).__init__()\n",
        "    self.position_embedding=tf.keras.layers.Embedding(input_dim=64,output_dim=projection_dim)\n",
        "  def call(self,patch):\n",
        "    positions=tf.range(start=0, limit=patch,delta=1)\n",
        "    encoded=self.position_embedding(positions)\n",
        "    return encoded"
      ],
      "execution_count": null,
      "outputs": []
    },
    {
      "cell_type": "code",
      "metadata": {
        "id": "zYuNigzinpkF"
      },
      "source": [
        "def create_att_model():\n",
        "  inputs=tf.keras.layers.Input(shape=(64,))\n",
        "  x=tf.keras.layers.Embedding(30522,256,mask_zero=True)(inputs)\n",
        " # pos_x=Embedding(256)(inputs)\n",
        " # x=x+pos_x\n",
        "  x11=tf.keras.layers.GRU(256,activation='relu',recurrent_dropout=0.4,return_sequences=True)(x)\n",
        "  for i in range(8):\n",
        "    x1=tf.keras.layers.LayerNormalization(epsilon=1e-6)(x11)\n",
        "    attention_output=tf.keras.layers.MultiHeadAttention(num_heads=8,key_dim=8,dropout=0.1)(x1,x1)\n",
        "    x2 = tf.keras.layers.Add()([attention_output,x11])\n",
        "    x3=tf.keras.layers.Dense(256,activation='relu')(x2)\n",
        "    x4=tf.keras.layers.Add()([x3,x2])\n",
        "  representation = tf.keras.layers.LayerNormalization(epsilon=1e-6)(x4)\n",
        "  representation = tf.keras.layers.Flatten()(representation)\n",
        "  representation = tf.keras.layers.Dropout(0.5)(representation)\n",
        "  features=tf.keras.layers.Dense(64,activation='relu')(representation)\n",
        "  logits=tf.keras.layers.Dense(1,activation='sigmoid')(features)\n",
        "  model=tf.keras.models.Model(inputs=inputs,outputs=logits)\n",
        "  return model"
      ],
      "execution_count": null,
      "outputs": []
    },
    {
      "cell_type": "code",
      "metadata": {
        "colab": {
          "base_uri": "https://localhost:8080/"
        },
        "id": "FBNwbcfqscis",
        "outputId": "7846c4b4-43d3-488c-e832-e6efc6763eaf"
      },
      "source": [
        "model1=create_att_model()"
      ],
      "execution_count": null,
      "outputs": [
        {
          "output_type": "stream",
          "text": [
            "WARNING:tensorflow:Layer gru will not use cuDNN kernel since it doesn't meet the cuDNN kernel criteria. It will use generic GPU kernel as fallback when running on GPU\n"
          ],
          "name": "stdout"
        }
      ]
    },
    {
      "cell_type": "code",
      "metadata": {
        "colab": {
          "base_uri": "https://localhost:8080/"
        },
        "id": "ixCWpkWQyTmv",
        "outputId": "d0795983-bcc3-473f-a593-3e79ec4b7600"
      },
      "source": [
        "model1.summary()"
      ],
      "execution_count": null,
      "outputs": [
        {
          "output_type": "stream",
          "text": [
            "Model: \"model\"\n",
            "__________________________________________________________________________________________________\n",
            "Layer (type)                    Output Shape         Param #     Connected to                     \n",
            "==================================================================================================\n",
            "input_1 (InputLayer)            [(None, 64)]         0                                            \n",
            "__________________________________________________________________________________________________\n",
            "embedding (Embedding)           (None, 64, 256)      7813632     input_1[0][0]                    \n",
            "__________________________________________________________________________________________________\n",
            "gru (GRU)                       (None, 64, 256)      394752      embedding[0][0]                  \n",
            "__________________________________________________________________________________________________\n",
            "layer_normalization_7 (LayerNor (None, 64, 256)      512         gru[0][0]                        \n",
            "__________________________________________________________________________________________________\n",
            "multi_head_attention_7 (MultiHe (None, 64, 256)      65984       layer_normalization_7[0][0]      \n",
            "                                                                 layer_normalization_7[0][0]      \n",
            "__________________________________________________________________________________________________\n",
            "add_14 (Add)                    (None, 64, 256)      0           multi_head_attention_7[0][0]     \n",
            "                                                                 gru[0][0]                        \n",
            "__________________________________________________________________________________________________\n",
            "dense_7 (Dense)                 (None, 64, 256)      65792       add_14[0][0]                     \n",
            "__________________________________________________________________________________________________\n",
            "add_15 (Add)                    (None, 64, 256)      0           dense_7[0][0]                    \n",
            "                                                                 add_14[0][0]                     \n",
            "__________________________________________________________________________________________________\n",
            "layer_normalization_8 (LayerNor (None, 64, 256)      512         add_15[0][0]                     \n",
            "__________________________________________________________________________________________________\n",
            "flatten (Flatten)               (None, 16384)        0           layer_normalization_8[0][0]      \n",
            "__________________________________________________________________________________________________\n",
            "dropout (Dropout)               (None, 16384)        0           flatten[0][0]                    \n",
            "__________________________________________________________________________________________________\n",
            "dense_8 (Dense)                 (None, 64)           1048640     dropout[0][0]                    \n",
            "__________________________________________________________________________________________________\n",
            "dense_9 (Dense)                 (None, 1)            65          dense_8[0][0]                    \n",
            "==================================================================================================\n",
            "Total params: 9,389,889\n",
            "Trainable params: 9,389,889\n",
            "Non-trainable params: 0\n",
            "__________________________________________________________________________________________________\n"
          ],
          "name": "stdout"
        }
      ]
    },
    {
      "cell_type": "code",
      "metadata": {
        "id": "4r6HyirvrirL"
      },
      "source": [
        "optimizer = tfa.optimizers.AdamW(learning_rate=0.1, weight_decay=0.0001)\n"
      ],
      "execution_count": null,
      "outputs": []
    },
    {
      "cell_type": "code",
      "metadata": {
        "id": "HNk-L9tBrwel"
      },
      "source": [
        "model1.compile(optimizer=tf.keras.optimizers.SGD(learning_rate=0.1),loss=tf.keras.losses.BinaryCrossentropy(),metrics=[tf.keras.metrics.BinaryAccuracy(name='accuracy')])"
      ],
      "execution_count": null,
      "outputs": []
    },
    {
      "cell_type": "code",
      "metadata": {
        "id": "IDFCctHX3rPn"
      },
      "source": [
        "train_labels=new_data['target'][:50000]"
      ],
      "execution_count": null,
      "outputs": []
    },
    {
      "cell_type": "code",
      "metadata": {
        "id": "tEAozT5N4Kh3"
      },
      "source": [
        "test_labels=new_data['target'][50000:]"
      ],
      "execution_count": null,
      "outputs": []
    },
    {
      "cell_type": "code",
      "metadata": {
        "id": "b03i6gVP4IJs",
        "colab": {
          "base_uri": "https://localhost:8080/"
        },
        "outputId": "9ca735d4-3016-4918-edc3-5f51976c092f"
      },
      "source": [
        "train_labels"
      ],
      "execution_count": null,
      "outputs": [
        {
          "output_type": "execute_result",
          "data": {
            "text/plain": [
              "0        1\n",
              "1        0\n",
              "2        1\n",
              "3        0\n",
              "4        1\n",
              "        ..\n",
              "49995    1\n",
              "49996    1\n",
              "49997    1\n",
              "49998    0\n",
              "49999    1\n",
              "Name: target, Length: 50000, dtype: int64"
            ]
          },
          "metadata": {
            "tags": []
          },
          "execution_count": 34
        }
      ]
    },
    {
      "cell_type": "code",
      "metadata": {
        "colab": {
          "base_uri": "https://localhost:8080/"
        },
        "id": "fTAxvGaf772b",
        "outputId": "98edbb06-98a9-4194-8f89-0cd82c06c982"
      },
      "source": [
        "test_data1.shape"
      ],
      "execution_count": null,
      "outputs": [
        {
          "output_type": "execute_result",
          "data": {
            "text/plain": [
              "TensorShape([10000, 64])"
            ]
          },
          "metadata": {
            "tags": []
          },
          "execution_count": 39
        }
      ]
    },
    {
      "cell_type": "code",
      "metadata": {
        "colab": {
          "base_uri": "https://localhost:8080/"
        },
        "id": "RKpiza_isYcR",
        "outputId": "418f8c24-c7b6-4d73-995c-0fe291fb6dfe"
      },
      "source": [
        "history=model1.fit(x=train_data1,y=train_labels,batch_size=32,epochs=3,validation_split=0.2)"
      ],
      "execution_count": null,
      "outputs": [
        {
          "output_type": "stream",
          "text": [
            "Epoch 1/3\n",
            "1250/1250 [==============================] - 210s 166ms/step - loss: 0.6934 - accuracy: 0.5005 - val_loss: 0.6932 - val_accuracy: 0.5053\n",
            "Epoch 2/3\n",
            "1250/1250 [==============================] - 207s 166ms/step - loss: 0.6934 - accuracy: 0.4935 - val_loss: 0.6931 - val_accuracy: 0.5053\n",
            "Epoch 3/3\n",
            "1250/1250 [==============================] - 207s 166ms/step - loss: 0.6933 - accuracy: 0.4980 - val_loss: 0.6932 - val_accuracy: 0.4947\n"
          ],
          "name": "stdout"
        }
      ]
    },
    {
      "cell_type": "code",
      "metadata": {
        "id": "eTiEsF1e4YPY"
      },
      "source": [
        ""
      ],
      "execution_count": null,
      "outputs": []
    }
  ]
}