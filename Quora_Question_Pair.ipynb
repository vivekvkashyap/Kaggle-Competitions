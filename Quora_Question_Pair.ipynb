{
  "nbformat": 4,
  "nbformat_minor": 0,
  "metadata": {
    "colab": {
      "name": "Quora Question-Pair.ipynb",
      "provenance": [],
      "collapsed_sections": []
    },
    "kernelspec": {
      "name": "python3",
      "display_name": "Python 3"
    },
    "accelerator": "GPU"
  },
  "cells": [
    {
      "cell_type": "code",
      "metadata": {
        "id": "E1DCtcg2Ujml"
      },
      "source": [
        "import tensorflow as tf\n",
        "import pandas as pd\n",
        "import numpy as np"
      ],
      "execution_count": null,
      "outputs": []
    },
    {
      "cell_type": "code",
      "metadata": {
        "id": "GetQDpm8UrSf"
      },
      "source": [
        "data=pd.read_csv('/content/drive/MyDrive/dataset/Quora Question-Pair/Quora Question-pair.zip',compression='zip')"
      ],
      "execution_count": null,
      "outputs": []
    },
    {
      "cell_type": "code",
      "metadata": {
        "colab": {
          "base_uri": "https://localhost:8080/"
        },
        "id": "B5AbT0P6U1rM",
        "outputId": "d2617a2e-8ed6-45ee-c1fe-809e50d6550c"
      },
      "source": [
        "data['is_duplicate'].value_counts()"
      ],
      "execution_count": null,
      "outputs": [
        {
          "output_type": "execute_result",
          "data": {
            "text/plain": [
              "0    255027\n",
              "1    149263\n",
              "Name: is_duplicate, dtype: int64"
            ]
          },
          "metadata": {
            "tags": []
          },
          "execution_count": 3
        }
      ]
    },
    {
      "cell_type": "code",
      "metadata": {
        "id": "H-r1QMx9VFcw"
      },
      "source": [
        "new_data=pd.DataFrame(data[:60000])"
      ],
      "execution_count": null,
      "outputs": []
    },
    {
      "cell_type": "code",
      "metadata": {
        "colab": {
          "base_uri": "https://localhost:8080/",
          "height": 35
        },
        "id": "zRVYyK7vgvVZ",
        "outputId": "e4993fd9-8ce5-4e1e-dc8a-f390d8beb911"
      },
      "source": [
        "new_data['question1'][0]"
      ],
      "execution_count": null,
      "outputs": [
        {
          "output_type": "execute_result",
          "data": {
            "application/vnd.google.colaboratory.intrinsic+json": {
              "type": "string"
            },
            "text/plain": [
              "'What is the step by step guide to invest in share market in india?'"
            ]
          },
          "metadata": {
            "tags": []
          },
          "execution_count": 5
        }
      ]
    },
    {
      "cell_type": "code",
      "metadata": {
        "colab": {
          "base_uri": "https://localhost:8080/"
        },
        "id": "iGVU_IbEesfF",
        "outputId": "3f5ca598-d699-4c03-c3ce-ccb1c99ddbda"
      },
      "source": [
        "new_data['is_duplicate'].value_counts()"
      ],
      "execution_count": null,
      "outputs": [
        {
          "output_type": "execute_result",
          "data": {
            "text/plain": [
              "0    37600\n",
              "1    22400\n",
              "Name: is_duplicate, dtype: int64"
            ]
          },
          "metadata": {
            "tags": []
          },
          "execution_count": 6
        }
      ]
    },
    {
      "cell_type": "code",
      "metadata": {
        "id": "OgSI0xIse2OE"
      },
      "source": [
        "j=0\n",
        "list1=[]\n",
        "for i in new_data['is_duplicate']:\n",
        "  if i==0:\n",
        "    list1.append(j)\n",
        "  j+=1\n",
        "  "
      ],
      "execution_count": null,
      "outputs": []
    },
    {
      "cell_type": "code",
      "metadata": {
        "id": "uLXALqxCh4KD"
      },
      "source": [
        "j=0\n",
        "list3=[]\n",
        "for i in new_data['is_duplicate']:\n",
        "  if i==1:\n",
        "    list3.append(j)\n",
        "  j+=1"
      ],
      "execution_count": null,
      "outputs": []
    },
    {
      "cell_type": "code",
      "metadata": {
        "colab": {
          "base_uri": "https://localhost:8080/"
        },
        "id": "VOmZ7n2vh9DC",
        "outputId": "3f4fbf27-0a97-4852-f9b1-d76c7d905b95"
      },
      "source": [
        "len(list3)"
      ],
      "execution_count": null,
      "outputs": [
        {
          "output_type": "execute_result",
          "data": {
            "text/plain": [
              "22400"
            ]
          },
          "metadata": {
            "tags": []
          },
          "execution_count": 9
        }
      ]
    },
    {
      "cell_type": "code",
      "metadata": {
        "colab": {
          "base_uri": "https://localhost:8080/"
        },
        "id": "DisBNtduhd2x",
        "outputId": "5acb49d6-655e-46ac-80ba-28bef9e42e0b"
      },
      "source": [
        "len(list1)"
      ],
      "execution_count": null,
      "outputs": [
        {
          "output_type": "execute_result",
          "data": {
            "text/plain": [
              "37600"
            ]
          },
          "metadata": {
            "tags": []
          },
          "execution_count": 10
        }
      ]
    },
    {
      "cell_type": "code",
      "metadata": {
        "id": "SsMBK2u2hsHk"
      },
      "source": [
        "list2=list1[:22400]"
      ],
      "execution_count": null,
      "outputs": []
    },
    {
      "cell_type": "code",
      "metadata": {
        "colab": {
          "base_uri": "https://localhost:8080/"
        },
        "id": "CN-P7baRhvhH",
        "outputId": "7079e70b-54e9-4b1d-b4ce-e58abb975f5c"
      },
      "source": [
        "len(list2)"
      ],
      "execution_count": null,
      "outputs": [
        {
          "output_type": "execute_result",
          "data": {
            "text/plain": [
              "22400"
            ]
          },
          "metadata": {
            "tags": []
          },
          "execution_count": 12
        }
      ]
    },
    {
      "cell_type": "code",
      "metadata": {
        "id": "vZAH57mMkIDm"
      },
      "source": [
        "data1=new_data.iloc[list2]\n",
        "data2=new_data.iloc[list3]"
      ],
      "execution_count": null,
      "outputs": []
    },
    {
      "cell_type": "code",
      "metadata": {
        "id": "_j4SQjCRkT23"
      },
      "source": [
        "nnew_data=pd.concat([data1,data2])"
      ],
      "execution_count": null,
      "outputs": []
    },
    {
      "cell_type": "code",
      "metadata": {
        "id": "mdsh-9yziJTB"
      },
      "source": [
        "nnew_data.reset_index(inplace=True)"
      ],
      "execution_count": null,
      "outputs": []
    },
    {
      "cell_type": "code",
      "metadata": {
        "id": "e7G8KGkClytZ"
      },
      "source": [
        "from sklearn.utils import shuffle\n",
        "final_data = shuffle(nnew_data)\n",
        "final_data.reset_index(inplace=True)"
      ],
      "execution_count": null,
      "outputs": []
    },
    {
      "cell_type": "code",
      "metadata": {
        "colab": {
          "base_uri": "https://localhost:8080/"
        },
        "id": "P_Rr56TFngqQ",
        "outputId": "525209f4-1bda-4f5f-9877-3e10a2b90690"
      },
      "source": [
        "final_data.columns"
      ],
      "execution_count": null,
      "outputs": [
        {
          "output_type": "execute_result",
          "data": {
            "text/plain": [
              "Index(['level_0', 'index', 'id', 'qid1', 'qid2', 'question1', 'question2',\n",
              "       'is_duplicate'],\n",
              "      dtype='object')"
            ]
          },
          "metadata": {
            "tags": []
          },
          "execution_count": 17
        }
      ]
    },
    {
      "cell_type": "code",
      "metadata": {
        "colab": {
          "base_uri": "https://localhost:8080/"
        },
        "id": "EwH6-IokmIfL",
        "outputId": "5610da82-0d79-46fe-c61c-bf5acb9ae9b5"
      },
      "source": [
        "final_data.drop(columns=['id','qid1','qid2'],inplace=True)\n",
        "final_data.drop(columns=['level_0','index'],inplace=True)"
      ],
      "execution_count": null,
      "outputs": [
        {
          "output_type": "stream",
          "text": [
            "/usr/local/lib/python3.6/dist-packages/pandas/core/frame.py:4174: SettingWithCopyWarning: \n",
            "A value is trying to be set on a copy of a slice from a DataFrame\n",
            "\n",
            "See the caveats in the documentation: https://pandas.pydata.org/pandas-docs/stable/user_guide/indexing.html#returning-a-view-versus-a-copy\n",
            "  errors=errors,\n"
          ],
          "name": "stderr"
        }
      ]
    },
    {
      "cell_type": "code",
      "metadata": {
        "id": "jrnHSdn0n2Tb"
      },
      "source": [
        "from keras.preprocessing.text import Tokenizer\n",
        "from keras.preprocessing.sequence import pad_sequences"
      ],
      "execution_count": null,
      "outputs": []
    },
    {
      "cell_type": "code",
      "metadata": {
        "id": "S7f3RMxmycdt"
      },
      "source": [
        "max_len=256\n",
        "max_words=10000"
      ],
      "execution_count": null,
      "outputs": []
    },
    {
      "cell_type": "code",
      "metadata": {
        "id": "uU3w6gz0yewr"
      },
      "source": [
        "import re"
      ],
      "execution_count": null,
      "outputs": []
    },
    {
      "cell_type": "code",
      "metadata": {
        "id": "GziVklMZyicQ"
      },
      "source": [
        "def preprocess(w):\n",
        "  w=w.lower()\n",
        "  w=re.sub(r\"([!,^#@])\",r\" \",w)\n",
        "  w=re.sub(r'[\" \"]+',\" \",w)\n",
        "  w=re.sub(r\"[^a-zA-Z?.!,?$&]+\",\" \",w)\n",
        "  w=w.strip()\n",
        " # w=w\n",
        "  return w"
      ],
      "execution_count": null,
      "outputs": []
    },
    {
      "cell_type": "code",
      "metadata": {
        "id": "_Y7mEZFVy0e0"
      },
      "source": [
        "question1=list(map(preprocess,final_data['question1']))"
      ],
      "execution_count": null,
      "outputs": []
    },
    {
      "cell_type": "code",
      "metadata": {
        "id": "-WcAo72pzYm5"
      },
      "source": [
        "question1"
      ],
      "execution_count": null,
      "outputs": []
    },
    {
      "cell_type": "code",
      "metadata": {
        "id": "rl4Oa5sgzaAD"
      },
      "source": [
        "question2=list(map(preprocess,final_data['question2']))"
      ],
      "execution_count": null,
      "outputs": []
    },
    {
      "cell_type": "code",
      "metadata": {
        "id": "iPtS_p33JkJr"
      },
      "source": [
        "train_question1_data=question1[:35000]\n",
        "test_question1_data=question1[35000:]\n",
        "train_question2_data=question2[:35000]\n",
        "test_question2_data=question2[35000:]\n",
        "train_duplicate_data=final_data['is_duplicate'][:35000]\n",
        "test_duplicate_data=final_data['is_duplicate'][35000:]"
      ],
      "execution_count": null,
      "outputs": []
    },
    {
      "cell_type": "code",
      "metadata": {
        "id": "JhWvq1_BIubx"
      },
      "source": [
        "! pip install transformers\n",
        "from transformers import BertTokenizer\n",
        "tokenizer=BertTokenizer.from_pretrained('bert-base-uncased')"
      ],
      "execution_count": null,
      "outputs": []
    },
    {
      "cell_type": "code",
      "metadata": {
        "id": "OfgGlbKV0I3N"
      },
      "source": [
        "inputs=tokenizer(train_question1_data,train_question2_data,return_tensors='tf',padding=True,truncation=True,max_length=64)\n",
        "inputs1=tokenizer(test_question1_data,test_question2_data,return_tensors='tf',padding=True,truncation=True,max_length=64)"
      ],
      "execution_count": null,
      "outputs": []
    },
    {
      "cell_type": "code",
      "metadata": {
        "colab": {
          "base_uri": "https://localhost:8080/"
        },
        "id": "XsZNqnK8SZlN",
        "outputId": "93262c22-0329-436d-e18d-d9c9fa8ae48a"
      },
      "source": [
        "tokenizer.get_vocab"
      ],
      "execution_count": null,
      "outputs": [
        {
          "output_type": "execute_result",
          "data": {
            "text/plain": [
              "<bound method BertTokenizer.get_vocab of PreTrainedTokenizer(name_or_path='bert-base-uncased', vocab_size=30522, model_max_len=512, is_fast=False, padding_side='right', special_tokens={'unk_token': '[UNK]', 'sep_token': '[SEP]', 'pad_token': '[PAD]', 'cls_token': '[CLS]', 'mask_token': '[MASK]'})>"
            ]
          },
          "metadata": {
            "tags": []
          },
          "execution_count": 84
        }
      ]
    },
    {
      "cell_type": "code",
      "metadata": {
        "id": "OKp4R3Y5KAUB"
      },
      "source": [
        "train_data1=inputs['input_ids']\n",
        "test_data1=inputs1['input_ids']"
      ],
      "execution_count": null,
      "outputs": []
    },
    {
      "cell_type": "code",
      "metadata": {
        "id": "s1Qo6po60Rj0"
      },
      "source": [
        "import xgboost\n",
        "xgb_reg = xgboost.XGBClassifier(n_estimators=100, learning_rate=0.05,max_depth=1, random_state=42 )"
      ],
      "execution_count": null,
      "outputs": []
    },
    {
      "cell_type": "code",
      "metadata": {
        "id": "HIpWL5uzK3Dc"
      },
      "source": [
        "from scipy import sparse"
      ],
      "execution_count": null,
      "outputs": []
    },
    {
      "cell_type": "code",
      "metadata": {
        "colab": {
          "base_uri": "https://localhost:8080/"
        },
        "id": "9OiGYqGf27Qm",
        "outputId": "2c7f56fb-c2ef-4b6f-d2ab-909b797466ea"
      },
      "source": [
        "xgb_reg.fit(train_data1,train_duplicate_data)"
      ],
      "execution_count": null,
      "outputs": [
        {
          "output_type": "execute_result",
          "data": {
            "text/plain": [
              "XGBClassifier(base_score=0.5, booster='gbtree', colsample_bylevel=1,\n",
              "              colsample_bynode=1, colsample_bytree=1, gamma=0,\n",
              "              learning_rate=0.05, max_delta_step=0, max_depth=1,\n",
              "              min_child_weight=1, missing=None, n_estimators=100, n_jobs=1,\n",
              "              nthread=None, objective='binary:logistic', random_state=42,\n",
              "              reg_alpha=0, reg_lambda=1, scale_pos_weight=1, seed=None,\n",
              "              silent=None, subsample=1, verbosity=1)"
            ]
          },
          "metadata": {
            "tags": []
          },
          "execution_count": 51
        }
      ]
    },
    {
      "cell_type": "code",
      "metadata": {
        "colab": {
          "base_uri": "https://localhost:8080/"
        },
        "id": "QNc3Wdc5KmyA",
        "outputId": "824b6bcc-73b8-4430-fe0c-f79e64f0a184"
      },
      "source": [
        "xgb_reg.score(test_data1,test_duplicate_data)"
      ],
      "execution_count": null,
      "outputs": [
        {
          "output_type": "execute_result",
          "data": {
            "text/plain": [
              "0.5964285714285714"
            ]
          },
          "metadata": {
            "tags": []
          },
          "execution_count": 54
        }
      ]
    },
    {
      "cell_type": "code",
      "metadata": {
        "id": "9RXgzif7LVto"
      },
      "source": [
        "\n",
        "from sklearn.ensemble import VotingClassifier"
      ],
      "execution_count": null,
      "outputs": []
    },
    {
      "cell_type": "code",
      "metadata": {
        "id": "61_Ci62QN77K"
      },
      "source": [
        "from sklearn.ensemble import RandomForestClassifier, ExtraTreesClassifier\n",
        "from sklearn.svm import LinearSVC\n",
        "from sklearn.neural_network import MLPClassifier\n",
        "\n",
        "random_forest_clf = RandomForestClassifier(n_estimators=100, random_state=42)\n",
        "extra_trees_clf = ExtraTreesClassifier(n_estimators=100, random_state=42)\n",
        "svm_clf = LinearSVC(random_state=42)"
      ],
      "execution_count": null,
      "outputs": []
    },
    {
      "cell_type": "code",
      "metadata": {
        "id": "FFaffVSfNyQO"
      },
      "source": [
        "named_estimators = [\n",
        "    (\"random_forest_clf\", random_forest_clf),\n",
        "    (\"extra_trees_clf\", extra_trees_clf),\n",
        "    (\"svm_clf\", svm_clf),\n",
        "]"
      ],
      "execution_count": null,
      "outputs": []
    },
    {
      "cell_type": "code",
      "metadata": {
        "colab": {
          "base_uri": "https://localhost:8080/"
        },
        "id": "8JAapXkeN3I7",
        "outputId": "e581fe3c-487c-4c70-ddc5-e7a82e157d7c"
      },
      "source": [
        "estimators = [random_forest_clf, extra_trees_clf, svm_clf]\n",
        "for estimator in estimators:\n",
        "    print(\"Training the\", estimator)\n",
        "    estimator.fit(train_data1,train_duplicate_data)"
      ],
      "execution_count": null,
      "outputs": [
        {
          "output_type": "stream",
          "text": [
            "Training the RandomForestClassifier(bootstrap=True, ccp_alpha=0.0, class_weight=None,\n",
            "                       criterion='gini', max_depth=None, max_features='auto',\n",
            "                       max_leaf_nodes=None, max_samples=None,\n",
            "                       min_impurity_decrease=0.0, min_impurity_split=None,\n",
            "                       min_samples_leaf=1, min_samples_split=2,\n",
            "                       min_weight_fraction_leaf=0.0, n_estimators=100,\n",
            "                       n_jobs=None, oob_score=False, random_state=42, verbose=0,\n",
            "                       warm_start=False)\n",
            "Training the ExtraTreesClassifier(bootstrap=False, ccp_alpha=0.0, class_weight=None,\n",
            "                     criterion='gini', max_depth=None, max_features='auto',\n",
            "                     max_leaf_nodes=None, max_samples=None,\n",
            "                     min_impurity_decrease=0.0, min_impurity_split=None,\n",
            "                     min_samples_leaf=1, min_samples_split=2,\n",
            "                     min_weight_fraction_leaf=0.0, n_estimators=100,\n",
            "                     n_jobs=None, oob_score=False, random_state=42, verbose=0,\n",
            "                     warm_start=False)\n",
            "Training the LinearSVC(C=1.0, class_weight=None, dual=True, fit_intercept=True,\n",
            "          intercept_scaling=1, loss='squared_hinge', max_iter=1000,\n",
            "          multi_class='ovr', penalty='l2', random_state=42, tol=0.0001,\n",
            "          verbose=0)\n"
          ],
          "name": "stdout"
        },
        {
          "output_type": "stream",
          "text": [
            "/usr/local/lib/python3.6/dist-packages/sklearn/svm/_base.py:947: ConvergenceWarning: Liblinear failed to converge, increase the number of iterations.\n",
            "  \"the number of iterations.\", ConvergenceWarning)\n"
          ],
          "name": "stderr"
        }
      ]
    },
    {
      "cell_type": "code",
      "metadata": {
        "colab": {
          "base_uri": "https://localhost:8080/"
        },
        "id": "cdrhu6K3ODwV",
        "outputId": "7f760cd6-8453-405c-dc44-d81a40faa7b8"
      },
      "source": [
        "[estimator.score(test_data1,test_duplicate_data) for estimator in estimators]"
      ],
      "execution_count": null,
      "outputs": [
        {
          "output_type": "execute_result",
          "data": {
            "text/plain": [
              "[0.6598979591836734, 0.6508163265306123, 0.4925510204081633]"
            ]
          },
          "metadata": {
            "tags": []
          },
          "execution_count": 61
        }
      ]
    },
    {
      "cell_type": "code",
      "metadata": {
        "id": "hGlMQYewOToF"
      },
      "source": [
        "from sklearn.ensemble import VotingClassifier\n",
        "named_estimators = [\n",
        "    (\"random_forest_clf\", random_forest_clf),\n",
        "    (\"extra_trees_clf\", extra_trees_clf),\n",
        "    (\"svm_clf\", svm_clf),\n",
        "]"
      ],
      "execution_count": null,
      "outputs": []
    },
    {
      "cell_type": "code",
      "metadata": {
        "id": "Np1XdlX-OZ30"
      },
      "source": [
        "voting_clf = VotingClassifier(named_estimators)"
      ],
      "execution_count": null,
      "outputs": []
    },
    {
      "cell_type": "code",
      "metadata": {
        "colab": {
          "base_uri": "https://localhost:8080/"
        },
        "id": "VyKhT4AvObxb",
        "outputId": "dbdb2b32-3d44-48ae-dbbf-dea6268f01dd"
      },
      "source": [
        "voting_clf.fit(train_data1,train_duplicate_data)"
      ],
      "execution_count": null,
      "outputs": [
        {
          "output_type": "stream",
          "text": [
            "/usr/local/lib/python3.6/dist-packages/sklearn/svm/_base.py:947: ConvergenceWarning: Liblinear failed to converge, increase the number of iterations.\n",
            "  \"the number of iterations.\", ConvergenceWarning)\n"
          ],
          "name": "stderr"
        },
        {
          "output_type": "execute_result",
          "data": {
            "text/plain": [
              "VotingClassifier(estimators=[('random_forest_clf',\n",
              "                              RandomForestClassifier(bootstrap=True,\n",
              "                                                     ccp_alpha=0.0,\n",
              "                                                     class_weight=None,\n",
              "                                                     criterion='gini',\n",
              "                                                     max_depth=None,\n",
              "                                                     max_features='auto',\n",
              "                                                     max_leaf_nodes=None,\n",
              "                                                     max_samples=None,\n",
              "                                                     min_impurity_decrease=0.0,\n",
              "                                                     min_impurity_split=None,\n",
              "                                                     min_samples_leaf=1,\n",
              "                                                     min_samples_split=2,\n",
              "                                                     min_weight_fraction_leaf=0.0,\n",
              "                                                     n_estimators=100,\n",
              "                                                     n_jobs...\n",
              "                                                   n_estimators=100,\n",
              "                                                   n_jobs=None, oob_score=False,\n",
              "                                                   random_state=42, verbose=0,\n",
              "                                                   warm_start=False)),\n",
              "                             ('svm_clf',\n",
              "                              LinearSVC(C=1.0, class_weight=None, dual=True,\n",
              "                                        fit_intercept=True, intercept_scaling=1,\n",
              "                                        loss='squared_hinge', max_iter=1000,\n",
              "                                        multi_class='ovr', penalty='l2',\n",
              "                                        random_state=42, tol=0.0001,\n",
              "                                        verbose=0))],\n",
              "                 flatten_transform=True, n_jobs=None, voting='hard',\n",
              "                 weights=None)"
            ]
          },
          "metadata": {
            "tags": []
          },
          "execution_count": 64
        }
      ]
    },
    {
      "cell_type": "code",
      "metadata": {
        "colab": {
          "base_uri": "https://localhost:8080/"
        },
        "id": "BBrcOtNBOgW9",
        "outputId": "46310900-3652-4ccd-ff64-3ff4c7fc8aa9"
      },
      "source": [
        "voting_clf.score(test_data1,test_duplicate_data)"
      ],
      "execution_count": null,
      "outputs": [
        {
          "output_type": "execute_result",
          "data": {
            "text/plain": [
              "0.6571428571428571"
            ]
          },
          "metadata": {
            "tags": []
          },
          "execution_count": 66
        }
      ]
    },
    {
      "cell_type": "code",
      "metadata": {
        "id": "n3TTsSmKQXZC"
      },
      "source": [
        "from tensorflow import keras"
      ],
      "execution_count": null,
      "outputs": []
    },
    {
      "cell_type": "code",
      "metadata": {
        "colab": {
          "base_uri": "https://localhost:8080/"
        },
        "id": "sSx0Gqe6OlrW",
        "outputId": "fb372392-28e4-4259-e493-a760ff5dcc0d"
      },
      "source": [
        "inputs11 = tf.keras.Input(shape=(None,), dtype=\"int32\")\n",
        "# Embed each integer in a 128-dimensional vector\n",
        "x = tf.keras.layers.Embedding(30523, 128)(inputs11)\n",
        "# Add 2 bidirectional LSTMs\n",
        "x = tf.keras.layers.Bidirectional(tf.keras.layers.LSTM(256, return_sequences=True))(x)\n",
        "x = tf.keras.layers.Bidirectional(tf.keras.layers.LSTM(128))(x)\n",
        "x=tf.keras.layers.Dense(128, activation=\"relu\")(x)\n",
        "# Add a classifier\n",
        "outputs = tf.keras.layers.Dense(1, activation=\"sigmoid\")(x)\n",
        "model = tf.keras.Model(inputs11, outputs)\n",
        "model.summary()"
      ],
      "execution_count": null,
      "outputs": [
        {
          "output_type": "stream",
          "text": [
            "Model: \"model_3\"\n",
            "_________________________________________________________________\n",
            "Layer (type)                 Output Shape              Param #   \n",
            "=================================================================\n",
            "input_5 (InputLayer)         [(None, None)]            0         \n",
            "_________________________________________________________________\n",
            "embedding_4 (Embedding)      (None, None, 128)         3906944   \n",
            "_________________________________________________________________\n",
            "bidirectional_6 (Bidirection (None, None, 512)         788480    \n",
            "_________________________________________________________________\n",
            "bidirectional_7 (Bidirection (None, 256)               656384    \n",
            "_________________________________________________________________\n",
            "dense_6 (Dense)              (None, 128)               32896     \n",
            "_________________________________________________________________\n",
            "dense_7 (Dense)              (None, 1)                 129       \n",
            "=================================================================\n",
            "Total params: 5,384,833\n",
            "Trainable params: 5,384,833\n",
            "Non-trainable params: 0\n",
            "_________________________________________________________________\n"
          ],
          "name": "stdout"
        }
      ]
    },
    {
      "cell_type": "code",
      "metadata": {
        "id": "oiXe7a7TRFNU"
      },
      "source": [
        "model.compile(optimizer=\"adam\", loss=\"binary_crossentropy\", metrics=[\"accuracy\"])"
      ],
      "execution_count": null,
      "outputs": []
    },
    {
      "cell_type": "code",
      "metadata": {
        "colab": {
          "base_uri": "https://localhost:8080/"
        },
        "id": "EXUmIHoxQWPm",
        "outputId": "fcc94168-bd5e-489a-fd47-704c46de65a2"
      },
      "source": [
        "model.fit(train_data1,train_duplicate_data, batch_size=32, epochs=2,validation_data=(test_data1,test_duplicate_data))"
      ],
      "execution_count": null,
      "outputs": [
        {
          "output_type": "stream",
          "text": [
            "Epoch 1/2\n",
            "1094/1094 [==============================] - 75s 60ms/step - loss: 0.6151 - accuracy: 0.6547 - val_loss: 0.5738 - val_accuracy: 0.7000\n",
            "Epoch 2/2\n",
            "1094/1094 [==============================] - 64s 59ms/step - loss: 0.4895 - accuracy: 0.7699 - val_loss: 0.5691 - val_accuracy: 0.7086\n"
          ],
          "name": "stdout"
        },
        {
          "output_type": "execute_result",
          "data": {
            "text/plain": [
              "<tensorflow.python.keras.callbacks.History at 0x7f7c5628b4a8>"
            ]
          },
          "metadata": {
            "tags": []
          },
          "execution_count": 87
        }
      ]
    },
    {
      "cell_type": "code",
      "metadata": {
        "colab": {
          "base_uri": "https://localhost:8080/"
        },
        "id": "lr4NaGKWRPw8",
        "outputId": "b266345d-8023-47b0-eacd-1b8f8eae29f8"
      },
      "source": [
        "inputs111= tf.keras.Input(shape=(None,), dtype=\"int32\")\n",
        "y = tf.keras.layers.Embedding(30523, 128)(inputs111)\n",
        "y = tf.keras.layers.LSTM(256, return_sequences=True)(y)\n",
        "y = tf.keras.layers.LSTM(128, return_sequences=True)(y)\n",
        "y = tf.keras.layers.LSTM(64,recurrent_dropout=0.2)(y)\n",
        "y=tf.keras.layers.Dense(128, activation=\"relu\",kernel_regularizer='l2')(y)\n",
        "y=tf.keras.layers.Dense(64, activation=\"relu\",kernel_regularizer='l2')(y)\n",
        "outputs1 = tf.keras.layers.Dense(1, activation=\"sigmoid\")(y)\n",
        "model1 = tf.keras.Model(inputs111, outputs1)\n",
        "model1.summary()"
      ],
      "execution_count": null,
      "outputs": [
        {
          "output_type": "stream",
          "text": [
            "WARNING:tensorflow:Layer lstm_17 will not use cuDNN kernel since it doesn't meet the cuDNN kernel criteria. It will use generic GPU kernel as fallback when running on GPU\n",
            "Model: \"model_7\"\n",
            "_________________________________________________________________\n",
            "Layer (type)                 Output Shape              Param #   \n",
            "=================================================================\n",
            "input_9 (InputLayer)         [(None, None)]            0         \n",
            "_________________________________________________________________\n",
            "embedding_8 (Embedding)      (None, None, 128)         3906944   \n",
            "_________________________________________________________________\n",
            "lstm_15 (LSTM)               (None, None, 256)         394240    \n",
            "_________________________________________________________________\n",
            "lstm_16 (LSTM)               (None, None, 128)         197120    \n",
            "_________________________________________________________________\n",
            "lstm_17 (LSTM)               (None, 64)                49408     \n",
            "_________________________________________________________________\n",
            "dense_15 (Dense)             (None, 128)               8320      \n",
            "_________________________________________________________________\n",
            "dense_16 (Dense)             (None, 64)                8256      \n",
            "_________________________________________________________________\n",
            "dense_17 (Dense)             (None, 1)                 65        \n",
            "=================================================================\n",
            "Total params: 4,564,353\n",
            "Trainable params: 4,564,353\n",
            "Non-trainable params: 0\n",
            "_________________________________________________________________\n"
          ],
          "name": "stdout"
        }
      ]
    },
    {
      "cell_type": "code",
      "metadata": {
        "id": "8S1i0Z_uTlWU"
      },
      "source": [
        "model1.compile(optimizer=\"adagrad\", loss=\"binary_crossentropy\", metrics=[\"accuracy\"])"
      ],
      "execution_count": null,
      "outputs": []
    },
    {
      "cell_type": "code",
      "metadata": {
        "colab": {
          "base_uri": "https://localhost:8080/"
        },
        "id": "S7wl84o2UJzR",
        "outputId": "f1502f56-e325-4ee0-e194-a73a3392283e"
      },
      "source": [
        "model1.fit(train_data1,train_duplicate_data, batch_size=64, epochs=3,validation_data=(test_data1,test_duplicate_data))"
      ],
      "execution_count": null,
      "outputs": [
        {
          "output_type": "stream",
          "text": [
            "Epoch 1/3\n",
            "547/547 [==============================] - 133s 237ms/step - loss: 2.3865 - accuracy: 0.5132 - val_loss: 2.3014 - val_accuracy: 0.4936\n",
            "Epoch 2/3\n",
            "547/547 [==============================] - 126s 231ms/step - loss: 2.2746 - accuracy: 0.5463 - val_loss: 2.1966 - val_accuracy: 0.5740\n",
            "Epoch 3/3\n",
            "547/547 [==============================] - 124s 227ms/step - loss: 2.1720 - accuracy: 0.5524 - val_loss: 2.1002 - val_accuracy: 0.5759\n"
          ],
          "name": "stdout"
        },
        {
          "output_type": "execute_result",
          "data": {
            "text/plain": [
              "<tensorflow.python.keras.callbacks.History at 0x7f7c5696a208>"
            ]
          },
          "metadata": {
            "tags": []
          },
          "execution_count": 93
        }
      ]
    },
    {
      "cell_type": "code",
      "metadata": {
        "id": "E-zfCvz5UMy9"
      },
      "source": [
        ""
      ],
      "execution_count": null,
      "outputs": []
    }
  ]
}