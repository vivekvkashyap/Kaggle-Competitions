{
  "nbformat": 4,
  "nbformat_minor": 0,
  "metadata": {
    "colab": {
      "name": "HomeDepot.ipynb",
      "provenance": [],
      "collapsed_sections": []
    },
    "kernelspec": {
      "name": "python3",
      "display_name": "Python 3"
    },
    "accelerator": "GPU"
  },
  "cells": [
    {
      "cell_type": "code",
      "metadata": {
        "id": "ru7ONfmjUndH"
      },
      "source": [
        "import pandas as pd\n",
        "import tensorflow as tf "
      ],
      "execution_count": null,
      "outputs": []
    },
    {
      "cell_type": "code",
      "metadata": {
        "id": "fNznWjcDr8-x"
      },
      "source": [
        "import time\n",
        "start_time = time.time()\n",
        "\n",
        "import numpy as np\n",
        "import pandas as pd\n",
        "from sklearn.ensemble import RandomForestRegressor\n",
        "from sklearn import pipeline\n",
        "from sklearn.metrics import mean_squared_error, make_scorer\n",
        "#from nltk.metrics import edit_distance\n",
        "from nltk.stem.porter import *\n",
        "stemmer = PorterStemmer()\n",
        "import re\n",
        "#import enchant\n",
        "import random\n",
        "\n",
        "random.seed(1966)"
      ],
      "execution_count": null,
      "outputs": []
    },
    {
      "cell_type": "code",
      "metadata": {
        "id": "4Su8CfDDU3HS"
      },
      "source": [
        "df_train=pd.read_csv('/content/drive/MyDrive/dataset/Home depot/home depot.zip', compression='zip',encoding='latin-1')\n",
        "df_test=pd.read_csv('/content/drive/MyDrive/dataset/Home depot/homedepot-test.csv.zip', compression='zip',encoding='latin-1')\n",
        "df_pro_desc=pd.read_csv('/content/drive/MyDrive/dataset/Home depot/product_descriptions.csv.zip',compression='zip')\n",
        "df_attr=pd.read_csv('/content/drive/MyDrive/dataset/Home depot/attributes.csv.zip',compression='zip')"
      ],
      "execution_count": null,
      "outputs": []
    },
    {
      "cell_type": "code",
      "metadata": {
        "id": "MN-5begdVPGS"
      },
      "source": [
        "df_brand=df_attr[df_attr.name=='MFG Brand Name'][[\"product_uid\",\"value\"]].rename(columns={\"value\":\"brand\"})"
      ],
      "execution_count": null,
      "outputs": []
    },
    {
      "cell_type": "code",
      "metadata": {
        "id": "KFHCLYNGXToU",
        "colab": {
          "base_uri": "https://localhost:8080/",
          "height": 419
        },
        "outputId": "0e41ab4f-1e8d-47c5-c30b-107a1789b12f"
      },
      "source": [
        "df_brand"
      ],
      "execution_count": null,
      "outputs": [
        {
          "output_type": "execute_result",
          "data": {
            "text/html": [
              "<div>\n",
              "<style scoped>\n",
              "    .dataframe tbody tr th:only-of-type {\n",
              "        vertical-align: middle;\n",
              "    }\n",
              "\n",
              "    .dataframe tbody tr th {\n",
              "        vertical-align: top;\n",
              "    }\n",
              "\n",
              "    .dataframe thead th {\n",
              "        text-align: right;\n",
              "    }\n",
              "</style>\n",
              "<table border=\"1\" class=\"dataframe\">\n",
              "  <thead>\n",
              "    <tr style=\"text-align: right;\">\n",
              "      <th></th>\n",
              "      <th>product_uid</th>\n",
              "      <th>brand</th>\n",
              "    </tr>\n",
              "  </thead>\n",
              "  <tbody>\n",
              "    <tr>\n",
              "      <th>9</th>\n",
              "      <td>100001.0</td>\n",
              "      <td>Simpson Strong-Tie</td>\n",
              "    </tr>\n",
              "    <tr>\n",
              "      <th>37</th>\n",
              "      <td>100002.0</td>\n",
              "      <td>BEHR Premium Textured DeckOver</td>\n",
              "    </tr>\n",
              "    <tr>\n",
              "      <th>69</th>\n",
              "      <td>100003.0</td>\n",
              "      <td>STERLING</td>\n",
              "    </tr>\n",
              "    <tr>\n",
              "      <th>93</th>\n",
              "      <td>100004.0</td>\n",
              "      <td>Grape Solar</td>\n",
              "    </tr>\n",
              "    <tr>\n",
              "      <th>122</th>\n",
              "      <td>100005.0</td>\n",
              "      <td>Delta</td>\n",
              "    </tr>\n",
              "    <tr>\n",
              "      <th>...</th>\n",
              "      <td>...</td>\n",
              "      <td>...</td>\n",
              "    </tr>\n",
              "    <tr>\n",
              "      <th>2044702</th>\n",
              "      <td>224422.0</td>\n",
              "      <td>Everbilt</td>\n",
              "    </tr>\n",
              "    <tr>\n",
              "      <th>2044734</th>\n",
              "      <td>224423.0</td>\n",
              "      <td>Coastal Shower Doors</td>\n",
              "    </tr>\n",
              "    <tr>\n",
              "      <th>2044747</th>\n",
              "      <td>224424.0</td>\n",
              "      <td>stufurhome</td>\n",
              "    </tr>\n",
              "    <tr>\n",
              "      <th>2044774</th>\n",
              "      <td>224425.0</td>\n",
              "      <td>Home Decorators Collection</td>\n",
              "    </tr>\n",
              "    <tr>\n",
              "      <th>2044795</th>\n",
              "      <td>224428.0</td>\n",
              "      <td>Bosch</td>\n",
              "    </tr>\n",
              "  </tbody>\n",
              "</table>\n",
              "<p>86250 rows × 2 columns</p>\n",
              "</div>"
            ],
            "text/plain": [
              "         product_uid                           brand\n",
              "9           100001.0              Simpson Strong-Tie\n",
              "37          100002.0  BEHR Premium Textured DeckOver\n",
              "69          100003.0                        STERLING\n",
              "93          100004.0                     Grape Solar\n",
              "122         100005.0                           Delta\n",
              "...              ...                             ...\n",
              "2044702     224422.0                        Everbilt\n",
              "2044734     224423.0            Coastal Shower Doors\n",
              "2044747     224424.0                      stufurhome\n",
              "2044774     224425.0      Home Decorators Collection\n",
              "2044795     224428.0                           Bosch\n",
              "\n",
              "[86250 rows x 2 columns]"
            ]
          },
          "metadata": {
            "tags": []
          },
          "execution_count": 5
        }
      ]
    },
    {
      "cell_type": "code",
      "metadata": {
        "colab": {
          "base_uri": "https://localhost:8080/",
          "height": 419
        },
        "id": "9I1K2kD2d-PG",
        "outputId": "ae6c76f6-667c-4c22-b353-ff9710b7eefa"
      },
      "source": [
        "df_attr"
      ],
      "execution_count": null,
      "outputs": [
        {
          "output_type": "execute_result",
          "data": {
            "text/html": [
              "<div>\n",
              "<style scoped>\n",
              "    .dataframe tbody tr th:only-of-type {\n",
              "        vertical-align: middle;\n",
              "    }\n",
              "\n",
              "    .dataframe tbody tr th {\n",
              "        vertical-align: top;\n",
              "    }\n",
              "\n",
              "    .dataframe thead th {\n",
              "        text-align: right;\n",
              "    }\n",
              "</style>\n",
              "<table border=\"1\" class=\"dataframe\">\n",
              "  <thead>\n",
              "    <tr style=\"text-align: right;\">\n",
              "      <th></th>\n",
              "      <th>product_uid</th>\n",
              "      <th>name</th>\n",
              "      <th>value</th>\n",
              "    </tr>\n",
              "  </thead>\n",
              "  <tbody>\n",
              "    <tr>\n",
              "      <th>0</th>\n",
              "      <td>100001.0</td>\n",
              "      <td>Bullet01</td>\n",
              "      <td>Versatile connector for various 90° connection...</td>\n",
              "    </tr>\n",
              "    <tr>\n",
              "      <th>1</th>\n",
              "      <td>100001.0</td>\n",
              "      <td>Bullet02</td>\n",
              "      <td>Stronger than angled nailing or screw fastenin...</td>\n",
              "    </tr>\n",
              "    <tr>\n",
              "      <th>2</th>\n",
              "      <td>100001.0</td>\n",
              "      <td>Bullet03</td>\n",
              "      <td>Help ensure joints are consistently straight a...</td>\n",
              "    </tr>\n",
              "    <tr>\n",
              "      <th>3</th>\n",
              "      <td>100001.0</td>\n",
              "      <td>Bullet04</td>\n",
              "      <td>Dimensions: 3 in. x 3 in. x 1-1/2 in.</td>\n",
              "    </tr>\n",
              "    <tr>\n",
              "      <th>4</th>\n",
              "      <td>100001.0</td>\n",
              "      <td>Bullet05</td>\n",
              "      <td>Made from 12-Gauge steel</td>\n",
              "    </tr>\n",
              "    <tr>\n",
              "      <th>...</th>\n",
              "      <td>...</td>\n",
              "      <td>...</td>\n",
              "      <td>...</td>\n",
              "    </tr>\n",
              "    <tr>\n",
              "      <th>2044798</th>\n",
              "      <td>224428.0</td>\n",
              "      <td>Pilot Bit Included</td>\n",
              "      <td>No</td>\n",
              "    </tr>\n",
              "    <tr>\n",
              "      <th>2044799</th>\n",
              "      <td>224428.0</td>\n",
              "      <td>Power Tool Product Type</td>\n",
              "      <td>Drill &amp; Router Bits</td>\n",
              "    </tr>\n",
              "    <tr>\n",
              "      <th>2044800</th>\n",
              "      <td>224428.0</td>\n",
              "      <td>Shank Diameter</td>\n",
              "      <td>3/8 in</td>\n",
              "    </tr>\n",
              "    <tr>\n",
              "      <th>2044801</th>\n",
              "      <td>224428.0</td>\n",
              "      <td>Shank Style</td>\n",
              "      <td>Hex</td>\n",
              "    </tr>\n",
              "    <tr>\n",
              "      <th>2044802</th>\n",
              "      <td>224428.0</td>\n",
              "      <td>Tools Product Type</td>\n",
              "      <td>Power Tool</td>\n",
              "    </tr>\n",
              "  </tbody>\n",
              "</table>\n",
              "<p>2044803 rows × 3 columns</p>\n",
              "</div>"
            ],
            "text/plain": [
              "         product_uid  ...                                              value\n",
              "0           100001.0  ...  Versatile connector for various 90° connection...\n",
              "1           100001.0  ...  Stronger than angled nailing or screw fastenin...\n",
              "2           100001.0  ...  Help ensure joints are consistently straight a...\n",
              "3           100001.0  ...              Dimensions: 3 in. x 3 in. x 1-1/2 in.\n",
              "4           100001.0  ...                           Made from 12-Gauge steel\n",
              "...              ...  ...                                                ...\n",
              "2044798     224428.0  ...                                                 No\n",
              "2044799     224428.0  ...                                Drill & Router Bits\n",
              "2044800     224428.0  ...                                             3/8 in\n",
              "2044801     224428.0  ...                                                Hex\n",
              "2044802     224428.0  ...                                         Power Tool\n",
              "\n",
              "[2044803 rows x 3 columns]"
            ]
          },
          "metadata": {
            "tags": []
          },
          "execution_count": 6
        }
      ]
    },
    {
      "cell_type": "code",
      "metadata": {
        "id": "PK73D_EttLv1"
      },
      "source": [
        "num_train=df_train.shape[0]\n"
      ],
      "execution_count": null,
      "outputs": []
    },
    {
      "cell_type": "code",
      "metadata": {
        "colab": {
          "base_uri": "https://localhost:8080/"
        },
        "id": "HEc47689tSUd",
        "outputId": "76a5c30a-3c59-47da-e5c7-d302cebcfa89"
      },
      "source": [
        "num_train"
      ],
      "execution_count": null,
      "outputs": [
        {
          "output_type": "execute_result",
          "data": {
            "text/plain": [
              "74067"
            ]
          },
          "metadata": {
            "tags": []
          },
          "execution_count": 8
        }
      ]
    },
    {
      "cell_type": "code",
      "metadata": {
        "id": "h-An_vrQtTcF"
      },
      "source": [
        "def fmean_squared_error(ground_truth, predictions):\n",
        "    fmean_squared_error_ = mean_squared_error(ground_truth, predictions)**0.5\n",
        "    return fmean_squared_error_"
      ],
      "execution_count": null,
      "outputs": []
    },
    {
      "cell_type": "code",
      "metadata": {
        "id": "Gct2m2QEtbFD"
      },
      "source": [
        "def str_stem(s):\n",
        "  if isinstance(s,str):\n",
        "    s = s.replace(\"inches\",\"in.\") # whole word\n",
        "    s = s.replace(\"inch\",\"in.\") # whole word\n",
        "    s = s.replace(\" in \",\"in. \") # no period\n",
        "    s = s.replace(\" in.\",\"in.\") # prefix space\n",
        "    #s = s.replace(\"''\",\"ft.\") # character\n",
        "    s = s.replace(\" feet \",\"ft. \") # whole word\n",
        "    s = s.replace(\"feet\",\"ft.\") # whole word\n",
        "    s = s.replace(\"foot\",\"ft.\") # whole word\n",
        "    s = s.replace(\" ft \",\"ft. \") # no period\n",
        "    s = s.replace(\" ft.\",\"ft.\") # prefix space\n",
        "    s = s.replace(\" pounds \",\"lb. \") # character\n",
        "    s = s.replace(\" pound \",\"lb. \") # whole word\n",
        "    s = s.replace(\"pound\",\"lb.\") # whole word\n",
        "    s = s.replace(\" lb \",\"lb. \") # no period\n",
        "    s = s.replace(\" lb.\",\"lb.\")\n",
        "    return \"\".join([stemmer.stem(re.sub('[^A-Za-z0-9-./]',' ',word)) for word in s.lower().split()])\n",
        "  else:\n",
        "    return \"null\""
      ],
      "execution_count": null,
      "outputs": []
    },
    {
      "cell_type": "code",
      "metadata": {
        "id": "fm6NqZZ0toTQ"
      },
      "source": [
        "def str_common_word(str1,str2):\n",
        "  str1,str2=str1.lower(),str2.lower()\n",
        "  words,cnt=str1.split(),0\n",
        "  for word in words:\n",
        "    if str2.find(word)>=0:\n",
        "      cnt+=1\n",
        "  return cnt\n"
      ],
      "execution_count": null,
      "outputs": []
    },
    {
      "cell_type": "code",
      "metadata": {
        "id": "eeTDQLEsvb5n"
      },
      "source": [
        "def str_whole_word(str1,str2,i_):\n",
        "  str1,str2=str1.lower().strip(),str2.lower().strip()\n",
        "  cnt=0\n",
        "  while i_<len(str2):\n",
        "    i_=str2.find(str1,i_)\n",
        "    if i_==-1:\n",
        "      return cnt\n",
        "    else:\n",
        "      cnt+=1\n",
        "      i_+=len(str1)\n",
        "  return cnt"
      ],
      "execution_count": null,
      "outputs": []
    },
    {
      "cell_type": "code",
      "metadata": {
        "id": "tt5-ZiVlxELr"
      },
      "source": [
        "df_test"
      ],
      "execution_count": null,
      "outputs": []
    },
    {
      "cell_type": "code",
      "metadata": {
        "id": "ot-M6O23yRQg"
      },
      "source": [
        "df_all=pd.concat((df_train,df_test),axis=0,ignore_index=True)\n",
        "df_all=pd.merge(df_all,df_pro_desc,how='left',on='product_uid')\n",
        "df_all=pd.merge(df_all,df_brand,how='left',on='product_uid')"
      ],
      "execution_count": null,
      "outputs": []
    },
    {
      "cell_type": "code",
      "metadata": {
        "colab": {
          "base_uri": "https://localhost:8080/"
        },
        "id": "nnA0G-KLzX5W",
        "outputId": "c150810c-f42c-4364-ad10-a573ccdaeebf"
      },
      "source": [
        "df_train.columns"
      ],
      "execution_count": null,
      "outputs": [
        {
          "output_type": "execute_result",
          "data": {
            "text/plain": [
              "Index(['id', 'product_uid', 'product_title', 'search_term', 'relevance'], dtype='object')"
            ]
          },
          "metadata": {
            "tags": []
          },
          "execution_count": 15
        }
      ]
    },
    {
      "cell_type": "code",
      "metadata": {
        "colab": {
          "base_uri": "https://localhost:8080/"
        },
        "id": "6hfvMHvGze17",
        "outputId": "498b4fee-5b27-4e33-b281-c5d9f80a95f9"
      },
      "source": [
        "df_pro_desc.columns"
      ],
      "execution_count": null,
      "outputs": [
        {
          "output_type": "execute_result",
          "data": {
            "text/plain": [
              "Index(['product_uid', 'product_description'], dtype='object')"
            ]
          },
          "metadata": {
            "tags": []
          },
          "execution_count": 16
        }
      ]
    },
    {
      "cell_type": "code",
      "metadata": {
        "colab": {
          "base_uri": "https://localhost:8080/",
          "height": 173
        },
        "id": "1KKzWRLMyogR",
        "outputId": "e7513fbe-095a-4077-ff79-bcb3c77817d5"
      },
      "source": [
        "df_all.head(4)"
      ],
      "execution_count": null,
      "outputs": [
        {
          "output_type": "execute_result",
          "data": {
            "text/html": [
              "<div>\n",
              "<style scoped>\n",
              "    .dataframe tbody tr th:only-of-type {\n",
              "        vertical-align: middle;\n",
              "    }\n",
              "\n",
              "    .dataframe tbody tr th {\n",
              "        vertical-align: top;\n",
              "    }\n",
              "\n",
              "    .dataframe thead th {\n",
              "        text-align: right;\n",
              "    }\n",
              "</style>\n",
              "<table border=\"1\" class=\"dataframe\">\n",
              "  <thead>\n",
              "    <tr style=\"text-align: right;\">\n",
              "      <th></th>\n",
              "      <th>id</th>\n",
              "      <th>product_uid</th>\n",
              "      <th>product_title</th>\n",
              "      <th>search_term</th>\n",
              "      <th>relevance</th>\n",
              "      <th>product_description</th>\n",
              "      <th>brand</th>\n",
              "    </tr>\n",
              "  </thead>\n",
              "  <tbody>\n",
              "    <tr>\n",
              "      <th>0</th>\n",
              "      <td>2</td>\n",
              "      <td>100001</td>\n",
              "      <td>Simpson Strong-Tie 12-Gauge Angle</td>\n",
              "      <td>angle bracket</td>\n",
              "      <td>3.00</td>\n",
              "      <td>Not only do angles make joints stronger, they ...</td>\n",
              "      <td>Simpson Strong-Tie</td>\n",
              "    </tr>\n",
              "    <tr>\n",
              "      <th>1</th>\n",
              "      <td>3</td>\n",
              "      <td>100001</td>\n",
              "      <td>Simpson Strong-Tie 12-Gauge Angle</td>\n",
              "      <td>l bracket</td>\n",
              "      <td>2.50</td>\n",
              "      <td>Not only do angles make joints stronger, they ...</td>\n",
              "      <td>Simpson Strong-Tie</td>\n",
              "    </tr>\n",
              "    <tr>\n",
              "      <th>2</th>\n",
              "      <td>9</td>\n",
              "      <td>100002</td>\n",
              "      <td>BEHR Premium Textured DeckOver 1-gal. #SC-141 ...</td>\n",
              "      <td>deck over</td>\n",
              "      <td>3.00</td>\n",
              "      <td>BEHR Premium Textured DECKOVER is an innovativ...</td>\n",
              "      <td>BEHR Premium Textured DeckOver</td>\n",
              "    </tr>\n",
              "    <tr>\n",
              "      <th>3</th>\n",
              "      <td>16</td>\n",
              "      <td>100005</td>\n",
              "      <td>Delta Vero 1-Handle Shower Only Faucet Trim Ki...</td>\n",
              "      <td>rain shower head</td>\n",
              "      <td>2.33</td>\n",
              "      <td>Update your bathroom with the Delta Vero Singl...</td>\n",
              "      <td>Delta</td>\n",
              "    </tr>\n",
              "  </tbody>\n",
              "</table>\n",
              "</div>"
            ],
            "text/plain": [
              "   id  ...                           brand\n",
              "0   2  ...              Simpson Strong-Tie\n",
              "1   3  ...              Simpson Strong-Tie\n",
              "2   9  ...  BEHR Premium Textured DeckOver\n",
              "3  16  ...                           Delta\n",
              "\n",
              "[4 rows x 7 columns]"
            ]
          },
          "metadata": {
            "tags": []
          },
          "execution_count": 17
        }
      ]
    },
    {
      "cell_type": "code",
      "metadata": {
        "colab": {
          "base_uri": "https://localhost:8080/"
        },
        "id": "qHbbFiza1ZSE",
        "outputId": "056f627c-a4f1-42a4-9f04-67cee9b90757"
      },
      "source": [
        "df_all.shape"
      ],
      "execution_count": null,
      "outputs": [
        {
          "output_type": "execute_result",
          "data": {
            "text/plain": [
              "(240760, 7)"
            ]
          },
          "metadata": {
            "tags": []
          },
          "execution_count": 18
        }
      ]
    },
    {
      "cell_type": "code",
      "metadata": {
        "id": "y5l1OQPh1mFn"
      },
      "source": [
        "df_all=df_all[:4000]"
      ],
      "execution_count": null,
      "outputs": []
    },
    {
      "cell_type": "code",
      "metadata": {
        "id": "-7718qxEzTaW"
      },
      "source": [
        "df_all['search_term']=df_all['search_term'].map(lambda x:str_stem(x))\n",
        "df_all['product_title']=df_all['product_title'].map(lambda x:str_stem(x))\n",
        "df_all['product_description']=df_all['product_description'].map(lambda x:str_stem(x))\n"
      ],
      "execution_count": null,
      "outputs": []
    },
    {
      "cell_type": "code",
      "metadata": {
        "id": "t10OdA-M0NC-"
      },
      "source": [
        "df_all['brand']=df_all['brand'].map(lambda x:str_stem(x))\n",
        "df_all['len_of_query']=df_all['search_term'].map(lambda x:len(x.split())).astype(np.int64)\n",
        "df_all['len_of_title']=df_all['product_title'].map(lambda x:len(x.split())).astype(np.int64)\n"
      ],
      "execution_count": null,
      "outputs": []
    },
    {
      "cell_type": "code",
      "metadata": {
        "id": "DiHWotgL1tk9"
      },
      "source": [
        "df_all['len_of_description']=df_all['product_description'].map(lambda x:len(x.split())).astype(np.int64)\n",
        "df_all['len_of_brand'] = df_all['brand'].map(lambda x:len(x.split())).astype(np.int64)\n",
        "df_all['product_info'] = df_all['search_term']+\"\\t\"+df_all['product_title'] +\"\\t\"+df_all['product_description']\n",
        "df_all['query_in_title'] = df_all['product_info'].map(lambda x:str_whole_word(x.split('\\t')[0],x.split('\\t')[1],0))\n",
        "df_all['query_in_description'] = df_all['product_info'].map(lambda x:str_whole_word(x.split('\\t')[0],x.split('\\t')[2],0))\n",
        "df_all['word_in_title'] = df_all['product_info'].map(lambda x:str_common_word(x.split('\\t')[0],x.split('\\t')[1]))\n",
        "df_all['word_in_description'] = df_all['product_info'].map(lambda x:str_common_word(x.split('\\t')[0],x.split('\\t')[2]))\n",
        "df_all['query_title_len_prop']=df_all['len_of_title']/df_all['len_of_query']\n",
        "df_all['query_desc_len_prop']=df_all['len_of_description']/df_all['len_of_query']\n",
        "df_all['ratio_title'] = df_all['word_in_title']/df_all['len_of_query']\n",
        "df_all['ratio_description'] = df_all['word_in_description']/df_all['len_of_query']"
      ],
      "execution_count": null,
      "outputs": []
    },
    {
      "cell_type": "code",
      "metadata": {
        "id": "T6JxoL4A2XfM"
      },
      "source": [
        "df_all['attr'] = df_all['search_term']+\"\\t\"+df_all['brand']+\"\\t\"+df_all['product_title']\n",
        "df_all['word_in_brand'] = df_all['attr'].map(lambda x:str_common_word(x.split('\\t')[0],x.split('\\t')[1]))\n",
        "df_all['ratio_brand'] = df_all['word_in_brand']/df_all['len_of_brand']\n"
      ],
      "execution_count": null,
      "outputs": []
    },
    {
      "cell_type": "code",
      "metadata": {
        "colab": {
          "base_uri": "https://localhost:8080/",
          "height": 507
        },
        "id": "Lanybtvw2fR8",
        "outputId": "0a6c8932-1b77-4e54-b834-54e1fabb393a"
      },
      "source": [
        "df_all"
      ],
      "execution_count": null,
      "outputs": [
        {
          "output_type": "execute_result",
          "data": {
            "text/html": [
              "<div>\n",
              "<style scoped>\n",
              "    .dataframe tbody tr th:only-of-type {\n",
              "        vertical-align: middle;\n",
              "    }\n",
              "\n",
              "    .dataframe tbody tr th {\n",
              "        vertical-align: top;\n",
              "    }\n",
              "\n",
              "    .dataframe thead th {\n",
              "        text-align: right;\n",
              "    }\n",
              "</style>\n",
              "<table border=\"1\" class=\"dataframe\">\n",
              "  <thead>\n",
              "    <tr style=\"text-align: right;\">\n",
              "      <th></th>\n",
              "      <th>id</th>\n",
              "      <th>product_uid</th>\n",
              "      <th>product_title</th>\n",
              "      <th>search_term</th>\n",
              "      <th>relevance</th>\n",
              "      <th>product_description</th>\n",
              "      <th>brand</th>\n",
              "      <th>len_of_query</th>\n",
              "      <th>len_of_title</th>\n",
              "      <th>len_of_description</th>\n",
              "      <th>len_of_brand</th>\n",
              "      <th>product_info</th>\n",
              "      <th>query_in_title</th>\n",
              "      <th>query_in_description</th>\n",
              "      <th>word_in_title</th>\n",
              "      <th>word_in_description</th>\n",
              "      <th>query_title_len_prop</th>\n",
              "      <th>query_desc_len_prop</th>\n",
              "      <th>ratio_title</th>\n",
              "      <th>ratio_description</th>\n",
              "      <th>attr</th>\n",
              "      <th>word_in_brand</th>\n",
              "      <th>ratio_brand</th>\n",
              "    </tr>\n",
              "  </thead>\n",
              "  <tbody>\n",
              "    <tr>\n",
              "      <th>0</th>\n",
              "      <td>2</td>\n",
              "      <td>100001</td>\n",
              "      <td>simpsonstrong-ti12-gaugangl</td>\n",
              "      <td>anglbracket</td>\n",
              "      <td>3.00</td>\n",
              "      <td>notonlidoanglmakejointstronger theyalsoprovidm...</td>\n",
              "      <td>simpsonstrong-ti</td>\n",
              "      <td>1</td>\n",
              "      <td>1</td>\n",
              "      <td>13</td>\n",
              "      <td>1</td>\n",
              "      <td>anglbracket\\tsimpsonstrong-ti12-gaugangl\\tnoto...</td>\n",
              "      <td>0</td>\n",
              "      <td>0</td>\n",
              "      <td>0</td>\n",
              "      <td>0</td>\n",
              "      <td>1.0</td>\n",
              "      <td>13.0</td>\n",
              "      <td>0.0</td>\n",
              "      <td>0.0</td>\n",
              "      <td>anglbracket\\tsimpsonstrong-ti\\tsimpsonstrong-t...</td>\n",
              "      <td>0</td>\n",
              "      <td>0.0</td>\n",
              "    </tr>\n",
              "    <tr>\n",
              "      <th>1</th>\n",
              "      <td>3</td>\n",
              "      <td>100001</td>\n",
              "      <td>simpsonstrong-ti12-gaugangl</td>\n",
              "      <td>lbracket</td>\n",
              "      <td>2.50</td>\n",
              "      <td>notonlidoanglmakejointstronger theyalsoprovidm...</td>\n",
              "      <td>simpsonstrong-ti</td>\n",
              "      <td>1</td>\n",
              "      <td>1</td>\n",
              "      <td>13</td>\n",
              "      <td>1</td>\n",
              "      <td>lbracket\\tsimpsonstrong-ti12-gaugangl\\tnotonli...</td>\n",
              "      <td>0</td>\n",
              "      <td>0</td>\n",
              "      <td>0</td>\n",
              "      <td>0</td>\n",
              "      <td>1.0</td>\n",
              "      <td>13.0</td>\n",
              "      <td>0.0</td>\n",
              "      <td>0.0</td>\n",
              "      <td>lbracket\\tsimpsonstrong-ti\\tsimpsonstrong-ti12...</td>\n",
              "      <td>0</td>\n",
              "      <td>0.0</td>\n",
              "    </tr>\n",
              "    <tr>\n",
              "      <th>2</th>\n",
              "      <td>9</td>\n",
              "      <td>100002</td>\n",
              "      <td>behrpremiumtexturdeckov1-gal. sc-141tugboatwoo...</td>\n",
              "      <td>deckover</td>\n",
              "      <td>3.00</td>\n",
              "      <td>behrpremiumtexturdeckovisaninnovsolidcolorcoat...</td>\n",
              "      <td>behrpremiumtexturdeckov</td>\n",
              "      <td>1</td>\n",
              "      <td>2</td>\n",
              "      <td>24</td>\n",
              "      <td>1</td>\n",
              "      <td>deckover\\tbehrpremiumtexturdeckov1-gal. sc-141...</td>\n",
              "      <td>0</td>\n",
              "      <td>0</td>\n",
              "      <td>0</td>\n",
              "      <td>0</td>\n",
              "      <td>2.0</td>\n",
              "      <td>24.0</td>\n",
              "      <td>0.0</td>\n",
              "      <td>0.0</td>\n",
              "      <td>deckover\\tbehrpremiumtexturdeckov\\tbehrpremium...</td>\n",
              "      <td>0</td>\n",
              "      <td>0.0</td>\n",
              "    </tr>\n",
              "    <tr>\n",
              "      <th>3</th>\n",
              "      <td>16</td>\n",
              "      <td>100005</td>\n",
              "      <td>deltavero1-handlshoweronlifaucettrimkitin.chro...</td>\n",
              "      <td>rainshowerhead</td>\n",
              "      <td>2.33</td>\n",
              "      <td>updatyourbathroomwiththedeltaverosingle-handls...</td>\n",
              "      <td>delta</td>\n",
              "      <td>1</td>\n",
              "      <td>2</td>\n",
              "      <td>10</td>\n",
              "      <td>1</td>\n",
              "      <td>rainshowerhead\\tdeltavero1-handlshoweronlifauc...</td>\n",
              "      <td>0</td>\n",
              "      <td>0</td>\n",
              "      <td>0</td>\n",
              "      <td>0</td>\n",
              "      <td>2.0</td>\n",
              "      <td>10.0</td>\n",
              "      <td>0.0</td>\n",
              "      <td>0.0</td>\n",
              "      <td>rainshowerhead\\tdelta\\tdeltavero1-handlshowero...</td>\n",
              "      <td>0</td>\n",
              "      <td>0.0</td>\n",
              "    </tr>\n",
              "    <tr>\n",
              "      <th>4</th>\n",
              "      <td>17</td>\n",
              "      <td>100005</td>\n",
              "      <td>deltavero1-handlshoweronlifaucettrimkitin.chro...</td>\n",
              "      <td>showeronlifaucet</td>\n",
              "      <td>2.67</td>\n",
              "      <td>updatyourbathroomwiththedeltaverosingle-handls...</td>\n",
              "      <td>delta</td>\n",
              "      <td>1</td>\n",
              "      <td>2</td>\n",
              "      <td>10</td>\n",
              "      <td>1</td>\n",
              "      <td>showeronlifaucet\\tdeltavero1-handlshoweronlifa...</td>\n",
              "      <td>1</td>\n",
              "      <td>0</td>\n",
              "      <td>1</td>\n",
              "      <td>0</td>\n",
              "      <td>2.0</td>\n",
              "      <td>10.0</td>\n",
              "      <td>1.0</td>\n",
              "      <td>0.0</td>\n",
              "      <td>showeronlifaucet\\tdelta\\tdeltavero1-handlshowe...</td>\n",
              "      <td>0</td>\n",
              "      <td>0.0</td>\n",
              "    </tr>\n",
              "    <tr>\n",
              "      <th>...</th>\n",
              "      <td>...</td>\n",
              "      <td>...</td>\n",
              "      <td>...</td>\n",
              "      <td>...</td>\n",
              "      <td>...</td>\n",
              "      <td>...</td>\n",
              "      <td>...</td>\n",
              "      <td>...</td>\n",
              "      <td>...</td>\n",
              "      <td>...</td>\n",
              "      <td>...</td>\n",
              "      <td>...</td>\n",
              "      <td>...</td>\n",
              "      <td>...</td>\n",
              "      <td>...</td>\n",
              "      <td>...</td>\n",
              "      <td>...</td>\n",
              "      <td>...</td>\n",
              "      <td>...</td>\n",
              "      <td>...</td>\n",
              "      <td>...</td>\n",
              "      <td>...</td>\n",
              "      <td>...</td>\n",
              "    </tr>\n",
              "    <tr>\n",
              "      <th>3995</th>\n",
              "      <td>12425</td>\n",
              "      <td>102175</td>\n",
              "      <td>hamptonbay5-shelfstandardbookcasein.white</td>\n",
              "      <td>bookcaseshelv</td>\n",
              "      <td>3.00</td>\n",
              "      <td>thehamptonbaywhite5-shelfstandardbookcasisanat...</td>\n",
              "      <td>hamptonbay</td>\n",
              "      <td>1</td>\n",
              "      <td>1</td>\n",
              "      <td>4</td>\n",
              "      <td>1</td>\n",
              "      <td>bookcaseshelv\\thamptonbay5-shelfstandardbookca...</td>\n",
              "      <td>0</td>\n",
              "      <td>0</td>\n",
              "      <td>0</td>\n",
              "      <td>0</td>\n",
              "      <td>1.0</td>\n",
              "      <td>4.0</td>\n",
              "      <td>0.0</td>\n",
              "      <td>0.0</td>\n",
              "      <td>bookcaseshelv\\thamptonbay\\thamptonbay5-shelfst...</td>\n",
              "      <td>0</td>\n",
              "      <td>0.0</td>\n",
              "    </tr>\n",
              "    <tr>\n",
              "      <th>3996</th>\n",
              "      <td>12429</td>\n",
              "      <td>102176</td>\n",
              "      <td>nantucketpaverberkshir13in.x19in.tanvariegirre...</td>\n",
              "      <td>belgiumblockpaver</td>\n",
              "      <td>2.00</td>\n",
              "      <td>thikitinclud60piecof19in.x13in.berkshirpatiobl...</td>\n",
              "      <td>nantucketpaver</td>\n",
              "      <td>1</td>\n",
              "      <td>2</td>\n",
              "      <td>13</td>\n",
              "      <td>1</td>\n",
              "      <td>belgiumblockpaver\\tnantucketpaverberkshir13in....</td>\n",
              "      <td>0</td>\n",
              "      <td>0</td>\n",
              "      <td>0</td>\n",
              "      <td>0</td>\n",
              "      <td>2.0</td>\n",
              "      <td>13.0</td>\n",
              "      <td>0.0</td>\n",
              "      <td>0.0</td>\n",
              "      <td>belgiumblockpaver\\tnantucketpaver\\tnantucketpa...</td>\n",
              "      <td>0</td>\n",
              "      <td>0.0</td>\n",
              "    </tr>\n",
              "    <tr>\n",
              "      <th>3997</th>\n",
              "      <td>12432</td>\n",
              "      <td>102176</td>\n",
              "      <td>nantucketpaverberkshir13in.x19in.tanvariegirre...</td>\n",
              "      <td>paverstone</td>\n",
              "      <td>3.00</td>\n",
              "      <td>thikitinclud60piecof19in.x13in.berkshirpatiobl...</td>\n",
              "      <td>nantucketpaver</td>\n",
              "      <td>1</td>\n",
              "      <td>2</td>\n",
              "      <td>13</td>\n",
              "      <td>1</td>\n",
              "      <td>paverstone\\tnantucketpaverberkshir13in.x19in.t...</td>\n",
              "      <td>0</td>\n",
              "      <td>0</td>\n",
              "      <td>0</td>\n",
              "      <td>0</td>\n",
              "      <td>2.0</td>\n",
              "      <td>13.0</td>\n",
              "      <td>0.0</td>\n",
              "      <td>0.0</td>\n",
              "      <td>paverstone\\tnantucketpaver\\tnantucketpaverberk...</td>\n",
              "      <td>0</td>\n",
              "      <td>0.0</td>\n",
              "    </tr>\n",
              "    <tr>\n",
              "      <th>3998</th>\n",
              "      <td>12433</td>\n",
              "      <td>102176</td>\n",
              "      <td>nantucketpaverberkshir13in.x19in.tanvariegirre...</td>\n",
              "      <td>pavebrick</td>\n",
              "      <td>2.67</td>\n",
              "      <td>thikitinclud60piecof19in.x13in.berkshirpatiobl...</td>\n",
              "      <td>nantucketpaver</td>\n",
              "      <td>1</td>\n",
              "      <td>2</td>\n",
              "      <td>13</td>\n",
              "      <td>1</td>\n",
              "      <td>pavebrick\\tnantucketpaverberkshir13in.x19in.ta...</td>\n",
              "      <td>0</td>\n",
              "      <td>0</td>\n",
              "      <td>0</td>\n",
              "      <td>0</td>\n",
              "      <td>2.0</td>\n",
              "      <td>13.0</td>\n",
              "      <td>0.0</td>\n",
              "      <td>0.0</td>\n",
              "      <td>pavebrick\\tnantucketpaver\\tnantucketpaverberks...</td>\n",
              "      <td>0</td>\n",
              "      <td>0.0</td>\n",
              "    </tr>\n",
              "    <tr>\n",
              "      <th>3999</th>\n",
              "      <td>12437</td>\n",
              "      <td>102178</td>\n",
              "      <td>backyardx-scape3ft.hx8ft.wx1in.dnaturrollbambo...</td>\n",
              "      <td>36invinalfenc</td>\n",
              "      <td>1.33</td>\n",
              "      <td>backyardx-scapes inc.usethefinesttonkinbambooc...</td>\n",
              "      <td>backyardx-scape</td>\n",
              "      <td>1</td>\n",
              "      <td>1</td>\n",
              "      <td>13</td>\n",
              "      <td>1</td>\n",
              "      <td>36invinalfenc\\tbackyardx-scape3ft.hx8ft.wx1in....</td>\n",
              "      <td>0</td>\n",
              "      <td>0</td>\n",
              "      <td>0</td>\n",
              "      <td>0</td>\n",
              "      <td>1.0</td>\n",
              "      <td>13.0</td>\n",
              "      <td>0.0</td>\n",
              "      <td>0.0</td>\n",
              "      <td>36invinalfenc\\tbackyardx-scape\\tbackyardx-scap...</td>\n",
              "      <td>0</td>\n",
              "      <td>0.0</td>\n",
              "    </tr>\n",
              "  </tbody>\n",
              "</table>\n",
              "<p>4000 rows × 23 columns</p>\n",
              "</div>"
            ],
            "text/plain": [
              "         id  product_uid  ... word_in_brand ratio_brand\n",
              "0         2       100001  ...             0         0.0\n",
              "1         3       100001  ...             0         0.0\n",
              "2         9       100002  ...             0         0.0\n",
              "3        16       100005  ...             0         0.0\n",
              "4        17       100005  ...             0         0.0\n",
              "...     ...          ...  ...           ...         ...\n",
              "3995  12425       102175  ...             0         0.0\n",
              "3996  12429       102176  ...             0         0.0\n",
              "3997  12432       102176  ...             0         0.0\n",
              "3998  12433       102176  ...             0         0.0\n",
              "3999  12437       102178  ...             0         0.0\n",
              "\n",
              "[4000 rows x 23 columns]"
            ]
          },
          "metadata": {
            "tags": []
          },
          "execution_count": 24
        }
      ]
    },
    {
      "cell_type": "code",
      "metadata": {
        "colab": {
          "base_uri": "https://localhost:8080/",
          "height": 224
        },
        "id": "5hGQHP-Q2jPX",
        "outputId": "f463d927-921b-48e6-ac33-5eb2ea3cca20"
      },
      "source": [
        "df_all = df_all.drop(['search_term','product_title','product_description','product_info','attr','brand'],axis=1)\n",
        "df_all.head()"
      ],
      "execution_count": null,
      "outputs": [
        {
          "output_type": "execute_result",
          "data": {
            "text/html": [
              "<div>\n",
              "<style scoped>\n",
              "    .dataframe tbody tr th:only-of-type {\n",
              "        vertical-align: middle;\n",
              "    }\n",
              "\n",
              "    .dataframe tbody tr th {\n",
              "        vertical-align: top;\n",
              "    }\n",
              "\n",
              "    .dataframe thead th {\n",
              "        text-align: right;\n",
              "    }\n",
              "</style>\n",
              "<table border=\"1\" class=\"dataframe\">\n",
              "  <thead>\n",
              "    <tr style=\"text-align: right;\">\n",
              "      <th></th>\n",
              "      <th>id</th>\n",
              "      <th>product_uid</th>\n",
              "      <th>relevance</th>\n",
              "      <th>len_of_query</th>\n",
              "      <th>len_of_title</th>\n",
              "      <th>len_of_description</th>\n",
              "      <th>len_of_brand</th>\n",
              "      <th>query_in_title</th>\n",
              "      <th>query_in_description</th>\n",
              "      <th>word_in_title</th>\n",
              "      <th>word_in_description</th>\n",
              "      <th>query_title_len_prop</th>\n",
              "      <th>query_desc_len_prop</th>\n",
              "      <th>ratio_title</th>\n",
              "      <th>ratio_description</th>\n",
              "      <th>word_in_brand</th>\n",
              "      <th>ratio_brand</th>\n",
              "    </tr>\n",
              "  </thead>\n",
              "  <tbody>\n",
              "    <tr>\n",
              "      <th>0</th>\n",
              "      <td>2</td>\n",
              "      <td>100001</td>\n",
              "      <td>3.00</td>\n",
              "      <td>1</td>\n",
              "      <td>1</td>\n",
              "      <td>13</td>\n",
              "      <td>1</td>\n",
              "      <td>0</td>\n",
              "      <td>0</td>\n",
              "      <td>0</td>\n",
              "      <td>0</td>\n",
              "      <td>1.0</td>\n",
              "      <td>13.0</td>\n",
              "      <td>0.0</td>\n",
              "      <td>0.0</td>\n",
              "      <td>0</td>\n",
              "      <td>0.0</td>\n",
              "    </tr>\n",
              "    <tr>\n",
              "      <th>1</th>\n",
              "      <td>3</td>\n",
              "      <td>100001</td>\n",
              "      <td>2.50</td>\n",
              "      <td>1</td>\n",
              "      <td>1</td>\n",
              "      <td>13</td>\n",
              "      <td>1</td>\n",
              "      <td>0</td>\n",
              "      <td>0</td>\n",
              "      <td>0</td>\n",
              "      <td>0</td>\n",
              "      <td>1.0</td>\n",
              "      <td>13.0</td>\n",
              "      <td>0.0</td>\n",
              "      <td>0.0</td>\n",
              "      <td>0</td>\n",
              "      <td>0.0</td>\n",
              "    </tr>\n",
              "    <tr>\n",
              "      <th>2</th>\n",
              "      <td>9</td>\n",
              "      <td>100002</td>\n",
              "      <td>3.00</td>\n",
              "      <td>1</td>\n",
              "      <td>2</td>\n",
              "      <td>24</td>\n",
              "      <td>1</td>\n",
              "      <td>0</td>\n",
              "      <td>0</td>\n",
              "      <td>0</td>\n",
              "      <td>0</td>\n",
              "      <td>2.0</td>\n",
              "      <td>24.0</td>\n",
              "      <td>0.0</td>\n",
              "      <td>0.0</td>\n",
              "      <td>0</td>\n",
              "      <td>0.0</td>\n",
              "    </tr>\n",
              "    <tr>\n",
              "      <th>3</th>\n",
              "      <td>16</td>\n",
              "      <td>100005</td>\n",
              "      <td>2.33</td>\n",
              "      <td>1</td>\n",
              "      <td>2</td>\n",
              "      <td>10</td>\n",
              "      <td>1</td>\n",
              "      <td>0</td>\n",
              "      <td>0</td>\n",
              "      <td>0</td>\n",
              "      <td>0</td>\n",
              "      <td>2.0</td>\n",
              "      <td>10.0</td>\n",
              "      <td>0.0</td>\n",
              "      <td>0.0</td>\n",
              "      <td>0</td>\n",
              "      <td>0.0</td>\n",
              "    </tr>\n",
              "    <tr>\n",
              "      <th>4</th>\n",
              "      <td>17</td>\n",
              "      <td>100005</td>\n",
              "      <td>2.67</td>\n",
              "      <td>1</td>\n",
              "      <td>2</td>\n",
              "      <td>10</td>\n",
              "      <td>1</td>\n",
              "      <td>1</td>\n",
              "      <td>0</td>\n",
              "      <td>1</td>\n",
              "      <td>0</td>\n",
              "      <td>2.0</td>\n",
              "      <td>10.0</td>\n",
              "      <td>1.0</td>\n",
              "      <td>0.0</td>\n",
              "      <td>0</td>\n",
              "      <td>0.0</td>\n",
              "    </tr>\n",
              "  </tbody>\n",
              "</table>\n",
              "</div>"
            ],
            "text/plain": [
              "   id  product_uid  relevance  ...  ratio_description  word_in_brand  ratio_brand\n",
              "0   2       100001       3.00  ...                0.0              0          0.0\n",
              "1   3       100001       2.50  ...                0.0              0          0.0\n",
              "2   9       100002       3.00  ...                0.0              0          0.0\n",
              "3  16       100005       2.33  ...                0.0              0          0.0\n",
              "4  17       100005       2.67  ...                0.0              0          0.0\n",
              "\n",
              "[5 rows x 17 columns]"
            ]
          },
          "metadata": {
            "tags": []
          },
          "execution_count": 27
        }
      ]
    },
    {
      "cell_type": "code",
      "metadata": {
        "colab": {
          "base_uri": "https://localhost:8080/"
        },
        "id": "D4P4HUlxCNhW",
        "outputId": "04ce9615-eb75-40bb-93e9-115d8274f58d"
      },
      "source": [
        "print (df_all[:10])\n",
        "print(\"--- Features Set: %s minutes ---\" % ((time.time() - start_time)/60))"
      ],
      "execution_count": null,
      "outputs": [
        {
          "output_type": "stream",
          "text": [
            "   id  product_uid  relevance  ...  ratio_description  word_in_brand  ratio_brand\n",
            "0   2       100001       3.00  ...                0.0              0          0.0\n",
            "1   3       100001       2.50  ...                0.0              0          0.0\n",
            "2   9       100002       3.00  ...                0.0              0          0.0\n",
            "3  16       100005       2.33  ...                0.0              0          0.0\n",
            "4  17       100005       2.67  ...                0.0              0          0.0\n",
            "5  18       100006       3.00  ...                0.0              0          0.0\n",
            "6  20       100006       2.67  ...                0.0              0          0.0\n",
            "7  21       100006       3.00  ...                1.0              0          0.0\n",
            "8  23       100007       2.67  ...                1.0              0          0.0\n",
            "9  27       100009       3.00  ...                0.0              0          0.0\n",
            "\n",
            "[10 rows x 17 columns]\n",
            "--- Features Set: 51.77179535230001 minutes ---\n"
          ],
          "name": "stdout"
        }
      ]
    },
    {
      "cell_type": "code",
      "metadata": {
        "id": "OzbZfioVCTmf"
      },
      "source": [
        "df_all.iloc[:2]"
      ],
      "execution_count": null,
      "outputs": []
    },
    {
      "cell_type": "code",
      "metadata": {
        "colab": {
          "base_uri": "https://localhost:8080/"
        },
        "id": "K3rmGC4uCrlM",
        "outputId": "77954e4a-d13c-401f-bdf6-1a88e324a21c"
      },
      "source": [
        "num_train"
      ],
      "execution_count": null,
      "outputs": [
        {
          "output_type": "execute_result",
          "data": {
            "text/plain": [
              "74067"
            ]
          },
          "metadata": {
            "tags": []
          },
          "execution_count": 30
        }
      ]
    },
    {
      "cell_type": "code",
      "metadata": {
        "id": "ZNBwIWhuCzc3"
      },
      "source": [
        "df_train1=df_all.iloc[:3500]\n",
        "df_test1=df_all.iloc[3500:]"
      ],
      "execution_count": null,
      "outputs": []
    },
    {
      "cell_type": "code",
      "metadata": {
        "id": "PYBHv1kvDAqF"
      },
      "source": [
        "id_test=df_test1['id']\n",
        "y_train=df_train1['relevance'].values\n",
        "X_train=df_train1.drop(['id','relevance'],axis=1).values\n",
        "X_test=df_test1.drop(['id','relevance'],axis=1).values\n"
      ],
      "execution_count": null,
      "outputs": []
    },
    {
      "cell_type": "code",
      "metadata": {
        "id": "3baKo02tDtMw"
      },
      "source": [
        "RMSE= make_scorer(fmean_squared_error, greater_is_better=False)"
      ],
      "execution_count": null,
      "outputs": []
    },
    {
      "cell_type": "code",
      "metadata": {
        "id": "2dLnotaEFY_H"
      },
      "source": [
        "rfr = RandomForestRegressor()"
      ],
      "execution_count": null,
      "outputs": []
    },
    {
      "cell_type": "code",
      "metadata": {
        "id": "lHSoh2SkFajs"
      },
      "source": [
        "clf = pipeline.Pipeline([('rfr', rfr)])\n"
      ],
      "execution_count": null,
      "outputs": []
    },
    {
      "cell_type": "code",
      "metadata": {
        "id": "nwXCoBLBFb_X"
      },
      "source": [
        "param_grid = {'rfr__n_estimators' : [325],#list(range(109,110,1)), \n",
        "              'rfr__max_depth': [8], #list(range(7,8,1))\n",
        "            }\n"
      ],
      "execution_count": null,
      "outputs": []
    },
    {
      "cell_type": "code",
      "metadata": {
        "id": "-J4JCDQuFdtv"
      },
      "source": [
        "from sklearn.model_selection import GridSearchCV"
      ],
      "execution_count": null,
      "outputs": []
    },
    {
      "cell_type": "code",
      "metadata": {
        "colab": {
          "base_uri": "https://localhost:8080/"
        },
        "id": "ZgERcNuDFhfu",
        "outputId": "92a11ad6-f6c9-4d05-d54c-5a56eccf34cd"
      },
      "source": [
        "model = GridSearchCV(estimator = clf, param_grid = param_grid, n_jobs = -1, cv = 10, verbose = 5, scoring=RMSE)\n",
        "model.fit(X_train, y_train)"
      ],
      "execution_count": null,
      "outputs": [
        {
          "output_type": "stream",
          "text": [
            "Fitting 10 folds for each of 1 candidates, totalling 10 fits\n"
          ],
          "name": "stdout"
        },
        {
          "output_type": "stream",
          "text": [
            "[Parallel(n_jobs=-1)]: Using backend LokyBackend with 2 concurrent workers.\n",
            "[Parallel(n_jobs=-1)]: Done  10 out of  10 | elapsed:   12.8s remaining:    0.0s\n",
            "[Parallel(n_jobs=-1)]: Done  10 out of  10 | elapsed:   12.8s finished\n"
          ],
          "name": "stderr"
        },
        {
          "output_type": "execute_result",
          "data": {
            "text/plain": [
              "GridSearchCV(cv=10, error_score=nan,\n",
              "             estimator=Pipeline(memory=None,\n",
              "                                steps=[('rfr',\n",
              "                                        RandomForestRegressor(bootstrap=True,\n",
              "                                                              ccp_alpha=0.0,\n",
              "                                                              criterion='mse',\n",
              "                                                              max_depth=None,\n",
              "                                                              max_features='auto',\n",
              "                                                              max_leaf_nodes=None,\n",
              "                                                              max_samples=None,\n",
              "                                                              min_impurity_decrease=0.0,\n",
              "                                                              min_impurity_split=None,\n",
              "                                                              min_samples_leaf=1,\n",
              "                                                              min_samples_split=2,\n",
              "                                                              min_weight_fraction_leaf=0.0,\n",
              "                                                              n_estimators=100,\n",
              "                                                              n_jobs=None,\n",
              "                                                              oob_score=False,\n",
              "                                                              random_state=None,\n",
              "                                                              verbose=0,\n",
              "                                                              warm_start=False))],\n",
              "                                verbose=False),\n",
              "             iid='deprecated', n_jobs=-1,\n",
              "             param_grid={'rfr__max_depth': [8], 'rfr__n_estimators': [325]},\n",
              "             pre_dispatch='2*n_jobs', refit=True, return_train_score=False,\n",
              "             scoring=make_scorer(fmean_squared_error, greater_is_better=False),\n",
              "             verbose=5)"
            ]
          },
          "metadata": {
            "tags": []
          },
          "execution_count": 41
        }
      ]
    },
    {
      "cell_type": "code",
      "metadata": {
        "colab": {
          "base_uri": "https://localhost:8080/"
        },
        "id": "3IXu3yPLFk_k",
        "outputId": "65438fb4-6e23-476f-b4d5-f89f4e73b3aa"
      },
      "source": [
        "model.best_params_"
      ],
      "execution_count": null,
      "outputs": [
        {
          "output_type": "execute_result",
          "data": {
            "text/plain": [
              "{'rfr__max_depth': 8, 'rfr__n_estimators': 325}"
            ]
          },
          "metadata": {
            "tags": []
          },
          "execution_count": 42
        }
      ]
    },
    {
      "cell_type": "code",
      "metadata": {
        "colab": {
          "base_uri": "https://localhost:8080/"
        },
        "id": "jzdA0MQQF6JF",
        "outputId": "a62052e4-5f70-4914-f24a-c1ac3e85f734"
      },
      "source": [
        "model.best_score_"
      ],
      "execution_count": null,
      "outputs": [
        {
          "output_type": "execute_result",
          "data": {
            "text/plain": [
              "-0.5416349284000062"
            ]
          },
          "metadata": {
            "tags": []
          },
          "execution_count": 43
        }
      ]
    },
    {
      "cell_type": "code",
      "metadata": {
        "colab": {
          "base_uri": "https://localhost:8080/"
        },
        "id": "WUdtZweUF8Qa",
        "outputId": "e6f402d7-feb4-46ef-8b2a-3fa8474968a7"
      },
      "source": [
        "y_pred = model.predict(X_test)\n",
        "print(len(y_pred))\n",
        "pd.DataFrame({\"id\": id_test, \"relevance\": y_pred}).to_csv('submission16.csv',index=False)\n",
        "print(\"--- Training & Testing: %s minutes ---\" % ((time.time() - start_time)/60))"
      ],
      "execution_count": null,
      "outputs": [
        {
          "output_type": "stream",
          "text": [
            "500\n",
            "--- Training & Testing: 68.23748751481374 minutes ---\n"
          ],
          "name": "stdout"
        }
      ]
    },
    {
      "cell_type": "code",
      "metadata": {
        "id": "YYJu-EyOGFEZ"
      },
      "source": [
        ""
      ],
      "execution_count": null,
      "outputs": []
    }
  ]
}